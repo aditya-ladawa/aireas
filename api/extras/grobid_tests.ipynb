{
 "cells": [
  {
   "cell_type": "markdown",
   "metadata": {},
   "source": [
    "docker run --rm --init --ulimit core=0 -p 8070:8070 lfoppiano/grobid:0.8.1"
   ]
  },
  {
   "cell_type": "code",
   "execution_count": 6,
   "metadata": {},
   "outputs": [
    {
     "name": "stdout",
     "output_type": "stream",
     "text": [
      "GROBID server is up and running\n"
     ]
    }
   ],
   "source": [
    "from grobid_client.grobid_client import GrobidClient\n",
    "import os\n",
    "client = GrobidClient(config_path=\"./config.json\")"
   ]
  },
  {
   "cell_type": "code",
   "execution_count": 7,
   "metadata": {},
   "outputs": [],
   "source": [
    "# client.process(\"processFulltextDocument\", \n",
    "#      \"static/files/\", \n",
    "#      output=\"metas/\", \n",
    "#      generateIDs=True, \n",
    "#      consolidate_header=True, \n",
    "#      consolidate_citations=True, \n",
    "#      include_raw_citations=True, \n",
    "#      include_raw_affiliations=True, \n",
    "#      tei_coordinates=True, \n",
    "#      segment_sentences=False,\n",
    "#      force=True)"
   ]
  },
  {
   "cell_type": "code",
   "execution_count": 10,
   "metadata": {},
   "outputs": [],
   "source": [
    "service_name = \"processFulltextDocument\"\n",
    "pdf_file_path = \"static/files/\"\n",
    "pdf_name = 'a.pdf'\n",
    "\n",
    "rsp, s, tx = client.process_pdf(\n",
    "    service_name,\n",
    "    pdf_file,\n",
    "    generateIDs=False,\n",
    "    consolidate_header=True,\n",
    "    consolidate_citations=True,\n",
    "    include_raw_citations=True,\n",
    "    include_raw_affiliations=True,\n",
    "    tei_coordinates=True,\n",
    "    segment_sentences=False,\n",
    ")\n"
   ]
  },
  {
   "cell_type": "code",
   "execution_count": 12,
   "metadata": {},
   "outputs": [
    {
     "name": "stdout",
     "output_type": "stream",
     "text": [
      "XML saved to: metas/a.grobid.xml\n"
     ]
    }
   ],
   "source": [
    "\n",
    "\n",
    "output_path = os.path.join('metas', f'{pdf_name.split('.')[0]}.grobid.xml')\n",
    "# Write the XML to the specified file\n",
    "with open(output_path, 'w', encoding='utf-8') as file:\n",
    "    file.write(tx)\n",
    "\n",
    "print(f\"XML saved to: {output_path}\")\n"
   ]
  },
  {
   "cell_type": "markdown",
   "metadata": {},
   "source": [
    "# testing"
   ]
  },
  {
   "cell_type": "code",
   "execution_count": 16,
   "metadata": {},
   "outputs": [],
   "source": []
  },
  {
   "cell_type": "code",
   "execution_count": 12,
   "metadata": {},
   "outputs": [],
   "source": [
    "# import os\n",
    "# import xml.etree.ElementTree as ET\n",
    "\n",
    "# # Specify the path to your XML file\n",
    "# file_path = os.path.join('metas', 'a.grobid.tei.xml')\n",
    "\n",
    "# # Parse the XML file\n",
    "# tree = ET.parse(file_path)\n",
    "# root = tree.getroot()\n",
    "\n",
    "# # Function to remove namespace from XML tags\n",
    "# def strip_namespace(tag):\n",
    "#     return tag.split('}')[-1]  # Get everything after the '}' character\n",
    "\n",
    "# # Structure the output with headers and indentation\n",
    "# def print_element_structure(element, indent=0):\n",
    "#     # Print the element tag and its text if it is not empty\n",
    "#     if element.text and element.text.strip() != 'None':\n",
    "#         print(' ' * indent + f\"{strip_namespace(element.tag)}: {element.text.strip()}\")\n",
    "    \n",
    "#     # Recursively print child elements with increased indentation\n",
    "#     for child in element:\n",
    "#         print_element_structure(child, indent)  # Increase indent for child elements\n",
    "\n",
    "# # Print structured output\n",
    "# print_element_structure(root)  # Start from the root\n"
   ]
  },
  {
   "cell_type": "code",
   "execution_count": 15,
   "metadata": {},
   "outputs": [],
   "source": [
    "# import os\n",
    "# import xml.etree.ElementTree as ET\n",
    "# import json\n",
    "\n",
    "# # Specify the path to your XML file\n",
    "# file_path = os.path.join('metas', 'a.grobid.tei.xml')\n",
    "\n",
    "# # Parse the XML file\n",
    "# tree = ET.parse(file_path)\n",
    "# root = tree.getroot()\n",
    "\n",
    "# # Function to remove namespace from XML tags\n",
    "# def strip_namespace(tag):\n",
    "#     return tag.split('}')[-1]  # Get everything after the '}' character\n",
    "\n",
    "# # Function to convert XML elements to a nested dictionary\n",
    "# def xml_to_dict(element):\n",
    "#     result = {}\n",
    "#     # If the element has text, add it to the dictionary\n",
    "#     if element.text and element.text.strip():\n",
    "#         result['text'] = element.text.strip()\n",
    "    \n",
    "#     # Process child elements\n",
    "#     for child in element:\n",
    "#         child_tag = strip_namespace(child.tag)\n",
    "#         child_dict = xml_to_dict(child)  # Recursively call for child elements\n",
    "        \n",
    "#         # If the tag already exists in the dictionary, convert it to a list\n",
    "#         if child_tag in result:\n",
    "#             if isinstance(result[child_tag], list):\n",
    "#                 result[child_tag].append(child_dict)\n",
    "#             else:\n",
    "#                 result[child_tag] = [result[child_tag], child_dict]\n",
    "#         else:\n",
    "#             result[child_tag] = child_dict\n",
    "    \n",
    "#     return result\n",
    "\n",
    "# # Convert the XML root to a dictionary\n",
    "# xml_dict = xml_to_dict(root)\n",
    "\n",
    "# # Convert the dictionary to JSON\n",
    "# json_output = json.dumps(xml_dict, indent=4)\n",
    "\n",
    "# # Print or save the JSON output\n",
    "# print(json_output)\n"
   ]
  },
  {
   "cell_type": "markdown",
   "metadata": {},
   "source": [
    "# json op"
   ]
  },
  {
   "cell_type": "code",
   "execution_count": null,
   "metadata": {},
   "outputs": [],
   "source": [
    "import os\n",
    "import xml.etree.ElementTree as ET\n",
    "import json\n",
    "\n",
    "# Specify the path to your XML file\n",
    "file_path = os.path.join('metas', 'a.grobid.tei.xml')\n",
    "\n",
    "# Parse the XML file\n",
    "tree = ET.parse(file_path)\n",
    "root = tree.getroot()\n",
    "\n",
    "# Function to remove namespace from XML tags\n",
    "def strip_namespace(tag):\n",
    "    return tag.split('}')[-1]  # Get everything after the '}' character\n",
    "\n",
    "# Function to convert XML elements to a nested dictionary\n",
    "def xml_to_dict(element):\n",
    "    result = {}\n",
    "    # Process child elements\n",
    "    for child in element:\n",
    "        child_tag = strip_namespace(child.tag)\n",
    "        child_dict = xml_to_dict(child)  # Recursively call for child elements\n",
    "        \n",
    "        # If the element has text, add it directly without the 'text' key\n",
    "        if child.text and child.text.strip():\n",
    "            result[child_tag] = child.text.strip()\n",
    "        \n",
    "        # If the child has sub-elements, use the constructed dictionary\n",
    "        if child_dict:\n",
    "            if child_tag in result:\n",
    "                if isinstance(result[child_tag], list):\n",
    "                    result[child_tag].append(child_dict)\n",
    "                else:\n",
    "                    result[child_tag] = [result[child_tag], child_dict]\n",
    "            else:\n",
    "                result[child_tag] = child_dict\n",
    "            \n",
    "    return result\n",
    "\n",
    "# Convert the XML root to a dictionary\n",
    "xml_dict = xml_to_dict(root)\n",
    "\n",
    "# Convert the dictionary to JSON\n",
    "json_output = json.dumps(xml_dict, indent=4)\n",
    "\n",
    "# Print or save the JSON output\n",
    "print(json_output)\n"
   ]
  },
  {
   "cell_type": "markdown",
   "metadata": {},
   "source": [
    "# string op"
   ]
  },
  {
   "cell_type": "code",
   "execution_count": 54,
   "metadata": {},
   "outputs": [],
   "source": [
    "import os\n",
    "import xml.etree.ElementTree as ET\n",
    "\n",
    "# Specify the path to your XML file\n",
    "file_path = os.path.join('metas', 'a.grobid.tei.xml')\n",
    "\n",
    "# Parse the XML file\n",
    "tree = ET.parse(file_path)\n",
    "root = tree.getroot()\n",
    "\n",
    "# Function to remove namespace from XML tags\n",
    "def strip_namespace(tag):\n",
    "    return tag.split('}')[-1]  # Get everything after the '}' character\n",
    "\n",
    "# Function to convert XML elements to a nested string representation\n",
    "def xml_to_string(element, indent=0):\n",
    "    result = \"\"\n",
    "    # Process child elements\n",
    "    for child in element:\n",
    "        child_tag = strip_namespace(child.tag)\n",
    "        child_string = xml_to_string(child, indent + 2)  # Recursively call for child elements\n",
    "        \n",
    "        # If the element has text, add it directly without the 'text' key\n",
    "        if child.text and child.text.strip():\n",
    "            result += ' ' * indent + f\"{child_tag}: {child.text.strip()}\\n\"\n",
    "        \n",
    "        # If the child has sub-elements, include the constructed string\n",
    "        if child_string:\n",
    "            result += ' ' * indent + f\"{child_tag}:\\n{child_string}\"\n",
    "\n",
    "    cleaned_result = result.replace('\\n', ' ')\n",
    "    cleaned_string = ' '.join(cleaned_result.split())  # This removes extra spaces\n",
    "\n",
    "        \n",
    "    return cleaned_string\n",
    "\n",
    "# Convert the XML root to a string\n",
    "xml_string = xml_to_string(root)\n",
    "\n",
    "\n"
   ]
  },
  {
   "cell_type": "code",
   "execution_count": 55,
   "metadata": {},
   "outputs": [
    {
     "data": {
      "text/plain": [
       "'teiHeader: fileDesc: titleStmt: title: Provided proper attribution is provided, Google hereby grants permission to reproduce the tables and figures in this paper solely for use in journalistic or scholarly works. Attention Is All You Need publicationStmt: date: 2 Aug 2023 sourceDesc: biblStruct: analytic: author: persName: forename: Ashish surname: Vaswani email: avaswani@google.com affiliation: note: Google Brain Google Research Google Research Google Research University of Toronto Google Brain 31st Conference on Neural Information Processing Systems (NIPS 2017) , Long Beach , CA , USA. orgName: Google Brain orgName: Google Research orgName: Google Research orgName: Google Research orgName: Google Brain orgName: 31st Conference on Neural Information Processing Systems (NIPS 2017) orgName: University of Toronto address: settlement: Long Beach region: CA country: USA author: persName: forename: Noam surname: Shazeer affiliation: note: Google Brain Google Research Google Research Google Research University of Toronto Google Brain 31st Conference on Neural Information Processing Systems (NIPS 2017) , Long Beach , CA , USA. orgName: Google Brain orgName: Google Research orgName: Google Research orgName: Google Research orgName: Google Brain orgName: 31st Conference on Neural Information Processing Systems (NIPS 2017) orgName: University of Toronto address: settlement: Long Beach region: CA country: USA author: persName: forename: Google surname: Brain affiliation: note: Google Brain Google Research Google Research Google Research University of Toronto Google Brain 31st Conference on Neural Information Processing Systems (NIPS 2017) , Long Beach , CA , USA. orgName: Google Brain orgName: Google Research orgName: Google Research orgName: Google Research orgName: Google Brain orgName: 31st Conference on Neural Information Processing Systems (NIPS 2017) orgName: University of Toronto address: settlement: Long Beach region: CA country: USA author: persName: forename: Niki surname: Parmar email: nikip@google.com affiliation: note: Google Brain Google Research Google Research Google Research University of Toronto Google Brain 31st Conference on Neural Information Processing Systems (NIPS 2017) , Long Beach , CA , USA. orgName: Google Brain orgName: Google Research orgName: Google Research orgName: Google Research orgName: Google Brain orgName: 31st Conference on Neural Information Processing Systems (NIPS 2017) orgName: University of Toronto address: settlement: Long Beach region: CA country: USA author: persName: forename: Jakob surname: Uszkoreit affiliation: note: Google Brain Google Research Google Research Google Research University of Toronto Google Brain 31st Conference on Neural Information Processing Systems (NIPS 2017) , Long Beach , CA , USA. orgName: Google Brain orgName: Google Research orgName: Google Research orgName: Google Research orgName: Google Brain orgName: 31st Conference on Neural Information Processing Systems (NIPS 2017) orgName: University of Toronto address: settlement: Long Beach region: CA country: USA author: persName: forename: Llion surname: Jones affiliation: note: Google Brain Google Research Google Research Google Research University of Toronto Google Brain 31st Conference on Neural Information Processing Systems (NIPS 2017) , Long Beach , CA , USA. orgName: Google Brain orgName: Google Research orgName: Google Research orgName: Google Research orgName: Google Brain orgName: 31st Conference on Neural Information Processing Systems (NIPS 2017) orgName: University of Toronto address: settlement: Long Beach region: CA country: USA author: persName: forename: Aidan forename: N surname: Gomez affiliation: note: Google Brain Google Research Google Research Google Research University of Toronto Google Brain 31st Conference on Neural Information Processing Systems (NIPS 2017) , Long Beach , CA , USA. orgName: Google Brain orgName: Google Research orgName: Google Research orgName: Google Research orgName: Google Brain orgName: 31st Conference on Neural Information Processing Systems (NIPS 2017) orgName: University of Toronto address: settlement: Long Beach region: CA country: USA author: persName: forename: Łukasz surname: Kaiser email: lukaszkaiser@google.com affiliation: note: Google Brain Google Research Google Research Google Research University of Toronto Google Brain 31st Conference on Neural Information Processing Systems (NIPS 2017) , Long Beach , CA , USA. orgName: Google Brain orgName: Google Research orgName: Google Research orgName: Google Research orgName: Google Brain orgName: 31st Conference on Neural Information Processing Systems (NIPS 2017) orgName: University of Toronto address: settlement: Long Beach region: CA country: USA title: Provided proper attribution is provided, Google hereby grants permission to reproduce the tables and figures in this paper solely for use in journalistic or scholarly works. Attention Is All You Need monogr: imprint: date: 2 Aug 2023 idno: 18E1B007A1DAB45B30CC861BA2DFDA25 idno: arXiv:1706.03762v7[cs.CL] encodingDesc: appInfo: application: desc: GROBID - A machine learning software for extracting information from scholarly documents profileDesc: abstract: div: p: The dominant sequence transduction models are based on complex recurrent or convolutional neural networks that include an encoder and a decoder. The best performing models also connect the encoder and decoder through an attention mechanism. We propose a new simple network architecture, the Transformer, based solely on attention mechanisms, dispensing with recurrence and convolutions entirely. Experiments on two machine translation tasks show these models to be superior in quality while being more parallelizable and requiring significantly less time to train. Our model achieves 28.4 BLEU on the WMT 2014 Englishto-German translation task, improving over the existing best results, including ensembles, by over 2 BLEU. On the WMT 2014 English-to-French translation task, our model establishes a new single-model state-of-the-art BLEU score of 41.8 after training for 3.5 days on eight GPUs, a small fraction of the training costs of the best models from the literature. We show that the Transformer generalizes well to other tasks by applying it successfully to English constituency parsing both with large and limited training data. * Equal contribution. Listing order is random. Jakob proposed replacing RNNs with self-attention and started the effort to evaluate this idea. Ashish, with Illia, designed and implemented the first Transformer models and has been crucially involved in every aspect of this work. Noam proposed scaled dot-product attention, multi-head attention and the parameter-free position representation and became the other person involved in nearly every detail. Niki designed, implemented, tuned and evaluated countless model variants in our original codebase and tensor2tensor. Llion also experimented with novel model variants, was responsible for our initial codebase, and efficient inference and visualizations. Lukasz and Aidan spent countless long days designing various parts of and implementing tensor2tensor, replacing our earlier codebase, greatly improving results and massively accelerating our research. p: † Work performed while at Google Brain. p: ‡ Work performed while at Google Research.text: body: div: head: Introduction p: Recurrent neural networks, long short-term memory p: ref: [13] ref: [7] ref: [35, ref: 2, ref: 5] ref: [38, ref: 24, ref: 15] p: Recurrent models typically factor computation along the symbol positions of the input and output sequences. Aligning the positions to steps in computation time, they generate a sequence of hidden states h t , as a function of the previous hidden state h t-1 and the input for position t. This inherently sequential nature precludes parallelization within training examples, which becomes critical at longer sequence lengths, as memory constraints limit batching across examples. Recent work has achieved significant improvements in computational efficiency through factorization tricks p: ref: [21] ref: [32] p: Attention mechanisms have become an integral part of compelling sequence modeling and transduction models in various tasks, allowing modeling of dependencies without regard to their distance in the input or output sequences p: ref: [2, ref: 19] ref: [27] p: In this work we propose the Transformer, a model architecture eschewing recurrence and instead relying entirely on an attention mechanism to draw global dependencies between input and output. The Transformer allows for significantly more parallelization and can reach a new state of the art in translation quality after being trained for as little as twelve hours on eight P100 GPUs. div: head: Background p: The goal of reducing sequential computation also forms the foundation of the Extended Neural GPU p: ref: [16] ref: [18] ref: [9] ref: [12] p: Self-attention, sometimes called intra-attention is an attention mechanism relating different positions of a single sequence in order to compute a representation of the sequence. Self-attention has been used successfully in a variety of tasks including reading comprehension, abstractive summarization, textual entailment and learning task-independent sentence representations p: ref: [4, ref: 27, ref: 28, ref: 22] p: End-to-end memory networks are based on a recurrent attention mechanism instead of sequencealigned recurrence and have been shown to perform well on simple-language question answering and language modeling tasks p: ref: [34] p: To the best of our knowledge, however, the Transformer is the first transduction model relying entirely on self-attention to compute representations of its input and output without using sequencealigned RNNs or convolution. In the following sections, we will describe the Transformer, motivate self-attention and discuss its advantages over models such as p: ref: [17, ref: 18] ref: [9] div: head: Model Architecture p: Most competitive neural sequence transduction models have an encoder-decoder structure p: ref: [5, ref: 2, ref: 35] ref: [10] ref: 1 div: head: Encoder and Decoder Stacks p: Encoder: The encoder is composed of a stack of N = 6 identical layers. Each layer has two sub-layers. The first is a multi-head self-attention mechanism, and the second is a simple, positionwise fully connected feed-forward network. We employ a residual connection p: ref: [11] ref: [1] p: Decoder: The decoder is also composed of a stack of N = 6 identical layers. In addition to the two sub-layers in each encoder layer, the decoder inserts a third sub-layer, which performs multi-head attention over the output of the encoder stack. Similar to the encoder, we employ residual connections around each of the sub-layers, followed by layer normalization. We also modify the self-attention sub-layer in the decoder stack to prevent positions from attending to subsequent positions. This masking, combined with fact that the output embeddings are offset by one position, ensures that the predictions for position i can depend only on the known outputs at positions less than i. div: head: Attention p: An attention function can be described as mapping a query and a set of key-value pairs to an output, where the query, keys, values, and output are all vectors. The output is computed as a weighted sum Scaled Dot-Product Attention Multi-Head Attention of the values, where the weight assigned to each value is computed by a compatibility function of the query with the corresponding key. div: head: Scaled Dot-Product Attention p: We call our particular attention \"Scaled Dot-Product Attention\" (Figure p: ref: 2 p: In practice, we compute the attention function on a set of queries simultaneously, packed together into a matrix Q. The keys and values are also packed together into matrices K and V . We compute the matrix of outputs as: formula: Attention(Q, K, V ) = softmax( QK T √ d k )V formula: label: (1) p: The two most commonly used attention functions are additive attention p: ref: [2] formula: √ d k p: . Additive attention computes the compatibility function using a feed-forward network with a single hidden layer. While the two are similar in theoretical complexity, dot-product attention is much faster and more space-efficient in practice, since it can be implemented using highly optimized matrix multiplication code. p: While for small values of d k the two mechanisms perform similarly, additive attention outperforms dot product attention without scaling for larger values of d k p: ref: [3] ref: foot_0 formula: √ d k . div: head: Multi-Head Attention p: Instead of performing a single attention function with d model -dimensional keys, values and queries, we found it beneficial to linearly project the queries, keys and values h times with different, learned linear projections to d k , d k and d v dimensions, respectively. On each of these projected versions of queries, keys and values we then perform the attention function in parallel, yielding d v -dimensional output values. These are concatenated and once again projected, resulting in the final values, as depicted in Figure p: ref: 2 p: Multi-head attention allows the model to jointly attend to information from different representation subspaces at different positions. With a single attention head, averaging inhibits this. formula: MultiHead(Q, K, V ) = Concat(head 1 , ..., head h )W O p: where formula: head i = Attention(QW Q i , KW K i , V W V i ) p: Where the projections are parameter matrices formula: W Q i ∈ R dmodel×d k , W K i ∈ R dmodel×d k , W V i ∈ R dmodel×dv and W O ∈ R hdv×dmodel . p: In this work we employ h = 8 parallel attention layers, or heads. For each of these we use formula: d k = d v = d model /h = 64. p: Due to the reduced dimension of each head, the total computational cost is similar to that of single-head attention with full dimensionality. div: head: Applications of Attention in our Model p: The Transformer uses multi-head attention in three different ways: p: • In \"encoder-decoder attention\" layers, the queries come from the previous decoder layer, and the memory keys and values come from the output of the encoder. This allows every position in the decoder to attend over all positions in the input sequence. This mimics the typical encoder-decoder attention mechanisms in sequence-to-sequence models such as p: ref: [38, ref: 2, ref: 9] p: • The encoder contains self-attention layers. In a self-attention layer all of the keys, values and queries come from the same place, in this case, the output of the previous layer in the encoder. Each position in the encoder can attend to all positions in the previous layer of the encoder. p: • Similarly, self-attention layers in the decoder allow each position in the decoder to attend to all positions in the decoder up to and including that position. We need to prevent leftward information flow in the decoder to preserve the auto-regressive property. We implement this inside of scaled dot-product attention by masking out (setting to -∞) all values in the input of the softmax which correspond to illegal connections. See Figure p: ref: 2 div: head: Position-wise Feed-Forward Networks p: In addition to attention sub-layers, each of the layers in our encoder and decoder contains a fully connected feed-forward network, which is applied to each position separately and identically. This consists of two linear transformations with a ReLU activation in between. formula: FFN(x) = max(0, xW 1 + b 1 )W 2 + b 2 formula: label: (2) p: While the linear transformations are the same across different positions, they use different parameters from layer to layer. Another way of describing this is as two convolutions with kernel size 1. p: The dimensionality of input and output is d model = 512, and the inner-layer has dimensionality d f f = 2048. div: head: Embeddings and Softmax p: Similarly to other sequence transduction models, we use learned embeddings to convert the input tokens and output tokens to vectors of dimension d model . We also use the usual learned linear transformation and softmax function to convert the decoder output to predicted next-token probabilities. In our model, we share the same weight matrix between the two embedding layers and the pre-softmax linear transformation, similar to p: ref: [30] formula: (n 2 • d) O(1) O(1) Recurrent O(n • d 2 ) O(n) O(n) Convolutional O(k • n • d 2 ) O(1) O(log k (n)) Self-Attention (restricted) O(r • n • d) O(1) O(n/r) div: head: Positional Encoding p: Since our model contains no recurrence and no convolution, in order for the model to make use of the order of the sequence, we must inject some information about the relative or absolute position of the tokens in the sequence. To this end, we add \"positional encodings\" to the input embeddings at the bottoms of the encoder and decoder stacks. The positional encodings have the same dimension d model as the embeddings, so that the two can be summed. There are many choices of positional encodings, learned and fixed p: ref: [9] p: In this work, we use sine and cosine functions of different frequencies: formula: P E (pos,2i) = sin(pos/10000 2i/dmodel ) P E (pos,2i+1) = cos(pos/10000 2i/dmodel ) p: where pos is the position and i is the dimension. That is, each dimension of the positional encoding corresponds to a sinusoid. The wavelengths form a geometric progression from 2π to 10000 • 2π. We chose this function because we hypothesized it would allow the model to easily learn to attend by relative positions, since for any fixed offset k, P E pos+k can be represented as a linear function of P E pos . p: We also experimented with using learned positional embeddings p: ref: [9] ref: 3 div: head: Why Self-Attention p: In this section we compare various aspects of self-attention layers to the recurrent and convolutional layers commonly used for mapping one variable-length sequence of symbol representations (x 1 , ..., x n ) to another sequence of equal length (z 1 , ..., z n ), with x i , z i ∈ R d , such as a hidden layer in a typical sequence transduction encoder or decoder. Motivating our use of self-attention we consider three desiderata. p: One is the total computational complexity per layer. Another is the amount of computation that can be parallelized, as measured by the minimum number of sequential operations required. p: The third is the path length between long-range dependencies in the network. Learning long-range dependencies is a key challenge in many sequence transduction tasks. One key factor affecting the ability to learn such dependencies is the length of the paths forward and backward signals have to traverse in the network. The shorter these paths between any combination of positions in the input and output sequences, the easier it is to learn long-range dependencies p: ref: [12] p: As noted in Table p: ref: 1 ref: [38] ref: [31] p: A single convolutional layer with kernel width k < n does not connect all pairs of input and output positions. Doing so requires a stack of O(n/k) convolutional layers in the case of contiguous kernels, or O(log k (n)) in the case of dilated convolutions p: ref: [18] ref: [6] formula: • n • d + n • d 2 ). p: Even with k = n, however, the complexity of a separable convolution is equal to the combination of a self-attention layer and a point-wise feed-forward layer, the approach we take in our model. p: As side benefit, self-attention could yield more interpretable models. We inspect attention distributions from our models and present and discuss examples in the appendix. Not only do individual attention heads clearly learn to perform different tasks, many appear to exhibit behavior related to the syntactic and semantic structure of the sentences. div: head: Training p: This section describes the training regime for our models. div: head: Training Data and Batching p: We trained on the standard WMT 2014 English-German dataset consisting of about 4.5 million sentence pairs. Sentences were encoded using byte-pair encoding p: ref: [3] ref: [38] div: head: Hardware and Schedule p: We trained our models on one machine with 8 NVIDIA P100 GPUs. For our base models using the hyperparameters described throughout the paper, each training step took about 0.4 seconds. We trained the base models for a total of 100,000 steps or 12 hours. For our big models,(described on the bottom line of table p: ref: 3 div: head: Optimizer p: We used the Adam optimizer p: ref: [20] formula: lrate = d -0.5 model • min(step_num -0.5 , step_num • warmup_steps -1.5 ) formula: label: (3) p: This corresponds to increasing the learning rate linearly for the first warmup_steps training steps, and decreasing it thereafter proportionally to the inverse square root of the step number. We used warmup_steps = 4000. div: head: Regularization p: We employ three types of regularization during training: Residual Dropout We apply dropout p: ref: [33] div: head: Label Smoothing p: During training, we employed label smoothing of value ϵ ls = 0.1 p: ref: [36] p: 6 Results div: head: Machine Translation p: On the WMT 2014 English-to-German translation task, the big transformer model (Transformer (big) in Table p: ref: 2 ref: 3 p: On the WMT 2014 English-to-French translation task, our big model achieves a BLEU score of 41.0, outperforming all of the previously published single models, at less than 1/4 the training cost of the previous state-of-the-art model. The Transformer (big) model trained for English-to-French used dropout rate P drop = 0.1, instead of 0.3. p: For the base models, we used a single model obtained by averaging the last 5 checkpoints, which were written at 10-minute intervals. For the big models, we averaged the last 20 checkpoints. We used beam search with a beam size of 4 and length penalty α = 0.6 p: ref: [38] ref: [38] p: Table p: ref: 2 ref: foot_1 div: head: Model Variations p: To evaluate the importance of different components of the Transformer, we varied our base model in different ways, measuring the change in performance on English-to-German translation on the . We used beam search as described in the previous section, but no checkpoint averaging. We present these results in Table p: ref: 3 p: In Table p: ref: 3 p: In Table p: ref: 3 ref: [9] div: head: English Constituency Parsing p: To evaluate if the Transformer can generalize to other tasks we performed experiments on English constituency parsing. This task presents specific challenges: the output is subject to strong structural constraints and is significantly longer than the input. Furthermore, RNN sequence-to-sequence models have not been able to attain state-of-the-art results in small-data regimes p: ref: [37] p: We trained a 4-layer transformer with d model = 1024 on the Wall Street Journal (WSJ) portion of the Penn Treebank p: ref: [25] ref: [37] p: We performed only a small number of experiments to select the dropout, both attention and residual (section 5.4), learning rates and beam size on the Section 22 development set, all other parameters remained unchanged from the English-to-German base translation model. During inference, we increased the maximum output length to input length + 300. We used a beam size of 21 and α = 0.3 for both WSJ only and the semi-supervised setting. p: Our results in Table p: ref: 4 ref: [8] p: In contrast to RNN sequence-to-sequence models p: ref: [37] ref: [29] div: head: Conclusion p: In this work, we presented the Transformer, the first sequence transduction model based entirely on attention, replacing the recurrent layers most commonly used in encoder-decoder architectures with multi-headed self-attention. p: For translation tasks, the Transformer can be trained significantly faster than architectures based on recurrent or convolutional layers. On both WMT 2014 English-to-German and WMT 2014 English-to-French translation tasks, we achieve a new state of the art. In the former task our best model outperforms even all previously reported ensembles. p: We are excited about the future of attention-based models and plan to apply them to other tasks. We plan to extend the Transformer to problems involving input and output modalities other than text and to investigate local, restricted attention mechanisms to efficiently handle large inputs and outputs such as images, audio and video. Making generation less sequential is another research goals of ours. p: The code we used to train and evaluate our models is available at p: ref: https://github.com/ tensorflow/tensor2tensor div: head: Input-Input Layer5 p: The Full attentions for head 5. Bottom: Isolated attentions from just the word \\'its\\' for attention heads 5 and 6. Note that the attentions are very sharp for this word. div: head: Input-Input Layer5 p: The figure: head: Figure 1 : label: 1 figDesc: Figure 1: The Transformer -model architecture. figure: head: Figure 2 : label: 2 figDesc: Figure 2: (left) Scaled Dot-Product Attention. (right) Multi-Head Attention consists of several attention layers running in parallel. figure: head: Figure 3 : label: 3 figDesc: Figure 3: An example of the attention mechanism following long-distance dependencies in the encoder self-attention in layer 5 of 6. Many of the attention heads attend to a distant dependency of the verb \\'making\\', completing the phrase \\'making...more difficult\\'. Attentions here shown only for the word \\'making\\'. Different colors represent different heads. Best viewed in color. figure: head: Figure 4 : label: 4 figDesc: Figure4: Two attention heads, also in layer 5 of 6, apparently involved in anaphora resolution. Top: Full attentions for head 5. Bottom: Isolated attentions from just the word \\'its\\' for attention heads 5 and 6. Note that the attentions are very sharp for this word. figure: head: Figure 5 : label: 5 figDesc: Figure5: Many of the attention heads exhibit behaviour that seems related to the structure of the sentence. We give two such examples above, from two different heads from the encoder self-attention at layer 5 of 6. The heads clearly learned to perform different tasks. figure: head: Table 1 : label: 1 figDesc: Maximum path lengths, per-layer complexity and minimum number of sequential operations for different layer types. n is the sequence length, d is the representation dimension, k is the kernel size of convolutions and r the size of the neighborhood in restricted self-attention. table: row: cell: Layer Type cell: Complexity per Layer Sequential Maximum Path Length row: cell: Operations row: cell: Self-Attention cell: O figure: head: Table 2 : label: 2 figDesc: The Transformer achieves better BLEU scores than previous state-of-the-art models on the English-to-German and English-to-French newstest2014 tests at a fraction of the training cost. table: row: cell: Model cell: BLEU EN-DE EN-FR cell: Training Cost (FLOPs) EN-DE EN-FR row: cell: ByteNet [18] cell: 23.75 row: cell: Deep-Att + PosUnk [39] cell: 39.2 cell: 1.0 • 10 20 row: cell: GNMT + RL [38] cell: 24.6 cell: 39.92 cell: 2.3 • 10 19 1.4 • 10 20 row: cell: ConvS2S [9] cell: 25.16 cell: 40.46 cell: 9.6 • 10 18 1.5 • 10 20 row: cell: MoE [32] cell: 26.03 cell: 40.56 cell: 2.0 • 10 19 1.2 • 10 20 row: cell: Deep-Att + PosUnk Ensemble [39] cell: 40.4 cell: 8.0 • 10 20 row: cell: GNMT + RL Ensemble [38] cell: 26.30 cell: 41.16 cell: 1.8 • 10 20 1.1 • 10 21 row: cell: ConvS2S Ensemble [9] cell: 26.36 cell: 41.29 cell: 7.7 • 10 19 1.2 • 10 21 row: cell: Transformer (base model) cell: 27.3 cell: 38.1 cell: 3.3 • 10 18 row: cell: Transformer (big) cell: 28.4 cell: 41.8 cell: 2.3 • 10 19 figure: head: Table 3 : label: 3 figDesc: Variations on the Transformer architecture. Unlisted values are identical to those of the base model. All metrics are on the English-to-German translation development set, newstest2013. Listed perplexities are per-wordpiece, according to our byte-pair encoding, and should not be compared to per-word perplexities. table: row: cell: N d model cell: d ff cell: h cell: d k cell: d v cell: P drop ϵ ls cell: train steps (dev) (dev) PPL BLEU params ×10 6 row: cell: base 6 cell: 512 cell: 2048 8 cell: 64 cell: 64 cell: 0.1 cell: 0.1 100K 4.92 cell: 25.8 cell: 65 row: cell: 1 512 512 cell: 5.29 cell: 24.9 row: cell: (A) cell: 4 128 128 16 32 32 cell: 5.00 4.91 cell: 25.5 25.8 row: cell: 32 16 cell: 16 cell: 5.01 cell: 25.4 row: cell: (B) cell: 16 32 cell: 5.16 5.01 cell: 25.1 25.4 cell: 58 60 row: cell: 2 cell: 6.11 cell: 23.7 cell: 36 row: cell: 4 cell: 5.19 cell: 25.3 cell: 50 row: cell: 8 cell: 4.88 cell: 25.5 cell: 80 row: cell: (C) cell: 256 cell: 32 cell: 32 cell: 5.75 cell: 24.5 cell: 28 row: cell: 1024 cell: 128 128 cell: 4.66 cell: 26.0 cell: 168 row: cell: 1024 cell: 5.12 cell: 25.4 cell: 53 row: cell: 4096 cell: 4.75 cell: 26.2 cell: 90 row: cell: 0.0 cell: 5.77 cell: 24.6 row: cell: (D) cell: 0.2 cell: 0.0 cell: 4.95 4.67 cell: 25.5 25.3 row: cell: 0.2 cell: 5.47 cell: 25.7 row: cell: (E) cell: positional embedding instead of sinusoids cell: 4.92 cell: 25.7 row: cell: big cell: 6 cell: 1024 4096 16 cell: 0.3 cell: 300K 4.33 cell: 26.4 cell: 213 row: cell: development set, newstest2013 figure: head: Table 4 : label: 4 figDesc: The Transformer generalizes well to English constituency parsing (Results are on Section 23 of WSJ) table: row: cell: Parser cell: Training cell: WSJ 23 F1 row: cell: Vinyals & Kaiser el al. (2014) [37] WSJ only, discriminative cell: 88.3 row: cell: Petrov et al. (2006) [29] cell: WSJ only, discriminative cell: 90.4 row: cell: Zhu et al. (2013) [40] cell: WSJ only, discriminative cell: 90.4 row: cell: Dyer et al. (2016) [8] cell: WSJ only, discriminative cell: 91.7 row: cell: Transformer (4 layers) cell: WSJ only, discriminative cell: 91.3 row: cell: Zhu et al. (2013) [40] cell: semi-supervised cell: 91.3 row: cell: Huang & Harper (2009) [14] cell: semi-supervised cell: 91.3 row: cell: McClosky et al. (2006) [26] cell: semi-supervised cell: 92.1 row: cell: Vinyals & Kaiser el al. (2014) [37] cell: semi-supervised cell: 92.1 row: cell: Transformer (4 layers) cell: semi-supervised cell: 92.7 row: cell: Luong et al. (2015) [23] cell: multi-task cell: 93.0 row: cell: Dyer et al. (2016) [8] cell: generative cell: 93.3 note: p: To illustrate why the dot products get large, assume that the components of q and k are independent random variables with mean 0 and variance 1. Then their dot product, q • k = d k i=1 qiki, has mean 0 and variance d k . note: p: We used values of 2.8, 3.7, note: p: ref: 6 back: div: div: p: Acknowledgements We are grateful to p: rs: Nal Kalchbrenner rs: Stephan Gouws div: listBibl: biblStruct: monogr: author: persName: forename: Jimmy surname: Lei Ba author: persName: forename: Jamie surname: Ryan Kiros author: persName: forename: Geoffrey forename: E surname: Hinton idno: arXiv:1607.06450 imprint: date: 2016 note: Layer normalization. arXiv preprint note: Jimmy Lei Ba, Jamie Ryan Kiros, and Geoffrey E Hinton. Layer normalization. arXiv preprint arXiv:1607.06450, 2016. biblStruct: monogr: title: Neural machine translation by jointly learning to align and translate author: persName: forename: Dzmitry surname: Bahdanau author: persName: forename: Kyunghyun surname: Cho author: persName: forename: Yoshua surname: Bengio idno: CoRR, abs/1409.0473 imprint: date: 2014 note: Dzmitry Bahdanau, Kyunghyun Cho, and Yoshua Bengio. Neural machine translation by jointly learning to align and translate. CoRR, abs/1409.0473, 2014. biblStruct: monogr: title: Massive exploration of neural machine translation architectures author: persName: forename: Denny surname: Britz author: persName: forename: Anna surname: Goldie author: persName: forename: Minh-Thang surname: Luong author: persName: forename: V surname: Quoc author: persName: surname: Le idno: CoRR, abs/1703.03906 imprint: date: 2017 note: Denny Britz, Anna Goldie, Minh-Thang Luong, and Quoc V. Le. Massive exploration of neural machine translation architectures. CoRR, abs/1703.03906, 2017. biblStruct: monogr: title: Long short-term memory-networks for machine reading author: persName: forename: Jianpeng surname: Cheng author: persName: forename: Li surname: Dong author: persName: forename: Mirella surname: Lapata idno: arXiv:1601.06733 imprint: date: 2016 note: arXiv preprint note: Jianpeng Cheng, Li Dong, and Mirella Lapata. Long short-term memory-networks for machine reading. arXiv preprint arXiv:1601.06733, 2016. biblStruct: monogr: title: Learning phrase representations using rnn encoder-decoder for statistical machine translation author: persName: forename: Kyunghyun surname: Cho author: persName: forename: Bart surname: Van Merrienboer author: persName: forename: Caglar surname: Gulcehre author: persName: forename: Fethi surname: Bougares author: persName: forename: Holger surname: Schwenk author: persName: forename: Yoshua surname: Bengio idno: CoRR, abs/1406.1078 imprint: date: 2014 note: Kyunghyun Cho, Bart van Merrienboer, Caglar Gulcehre, Fethi Bougares, Holger Schwenk, and Yoshua Bengio. Learning phrase representations using rnn encoder-decoder for statistical machine translation. CoRR, abs/1406.1078, 2014. biblStruct: monogr: title: Xception: Deep learning with depthwise separable convolutions author: persName: forename: Francois surname: Chollet idno: arXiv:1610.02357 imprint: date: 2016 note: arXiv preprint note: Francois Chollet. Xception: Deep learning with depthwise separable convolutions. arXiv preprint arXiv:1610.02357, 2016. biblStruct: monogr: title: Empirical evaluation of gated recurrent neural networks on sequence modeling author: persName: forename: Junyoung surname: Chung author: persName: forename: Çaglar surname: Gülçehre author: persName: forename: Kyunghyun surname: Cho author: persName: forename: Yoshua surname: Bengio idno: CoRR, abs/1412.3555 imprint: date: 2014 note: Junyoung Chung, Çaglar Gülçehre, Kyunghyun Cho, and Yoshua Bengio. Empirical evaluation of gated recurrent neural networks on sequence modeling. CoRR, abs/1412.3555, 2014. biblStruct: analytic: title: Recurrent neural network grammars author: persName: forename: Chris surname: Dyer author: persName: forename: Adhiguna surname: Kuncoro author: persName: forename: Miguel surname: Ballesteros author: persName: forename: Noah forename: A surname: Smith monogr: title: Proc. of NAACL meeting: of NAACL imprint: date: 2016 note: Chris Dyer, Adhiguna Kuncoro, Miguel Ballesteros, and Noah A. Smith. Recurrent neural network grammars. In Proc. of NAACL, 2016. biblStruct: monogr: author: persName: forename: Jonas surname: Gehring author: persName: forename: Michael surname: Auli author: persName: forename: David surname: Grangier author: persName: forename: Denis surname: Yarats author: persName: forename: Yann forename: N surname: Dauphin idno: arXiv:1705.03122v2 title: Convolutional sequence to sequence learning imprint: date: 2017 note: arXiv preprint note: Jonas Gehring, Michael Auli, David Grangier, Denis Yarats, and Yann N. Dauphin. Convolu- tional sequence to sequence learning. arXiv preprint arXiv:1705.03122v2, 2017. biblStruct: monogr: title: Generating sequences with recurrent neural networks author: persName: forename: Alex surname: Graves idno: arXiv:1308.0850 imprint: date: 2013 note: arXiv preprint note: Alex Graves. Generating sequences with recurrent neural networks. arXiv preprint arXiv:1308.0850, 2013. biblStruct: analytic: title: Deep residual learning for image recognition author: persName: forename: Kaiming surname: He author: persName: forename: Xiangyu surname: Zhang author: persName: forename: Shaoqing surname: Ren author: persName: forename: Jian surname: Sun monogr: title: Proceedings of the IEEE Conference on Computer Vision and Pattern Recognition meeting: the IEEE Conference on Computer Vision and Pattern Recognition imprint: date: 2016 note: Kaiming He, Xiangyu Zhang, Shaoqing Ren, and Jian Sun. Deep residual learning for im- age recognition. In Proceedings of the IEEE Conference on Computer Vision and Pattern Recognition, pages 770-778, 2016. biblStruct: monogr: title: Gradient flow in recurrent nets: the difficulty of learning long-term dependencies author: persName: forename: Sepp surname: Hochreiter author: persName: forename: Yoshua surname: Bengio author: persName: forename: Paolo surname: Frasconi author: persName: forename: Jürgen surname: Schmidhuber imprint: date: 2001 note: Sepp Hochreiter, Yoshua Bengio, Paolo Frasconi, and Jürgen Schmidhuber. Gradient flow in recurrent nets: the difficulty of learning long-term dependencies, 2001. biblStruct: analytic: title: Long short-term memory author: persName: forename: Sepp surname: Hochreiter author: persName: forename: Jürgen surname: Schmidhuber monogr: title: Neural computation imprint: biblScope: 9 biblScope: 8 date: 1997 note: Sepp Hochreiter and Jürgen Schmidhuber. Long short-term memory. Neural computation, 9(8):1735-1780, 1997. biblStruct: analytic: title: Self-training PCFG grammars with latent annotations across languages author: persName: forename: Zhongqiang surname: Huang author: persName: forename: Mary surname: Harper monogr: title: Proceedings of the 2009 Conference on Empirical Methods in Natural Language Processing meeting: the 2009 Conference on Empirical Methods in Natural Language Processing imprint: date: August 2009 note: Zhongqiang Huang and Mary Harper. Self-training PCFG grammars with latent annotations across languages. In Proceedings of the 2009 Conference on Empirical Methods in Natural Language Processing, pages 832-841. ACL, August 2009. biblStruct: monogr: title: Exploring the limits of language modeling author: persName: forename: Rafal surname: Jozefowicz author: persName: forename: Oriol surname: Vinyals author: persName: forename: Mike surname: Schuster author: persName: forename: Noam surname: Shazeer author: persName: forename: Yonghui surname: Wu idno: arXiv:1602.02410 imprint: date: 2016 note: arXiv preprint note: Rafal Jozefowicz, Oriol Vinyals, Mike Schuster, Noam Shazeer, and Yonghui Wu. Exploring the limits of language modeling. arXiv preprint arXiv:1602.02410, 2016. biblStruct: analytic: title: Can active memory replace attention? author: persName: forename: Łukasz surname: Kaiser author: persName: forename: Samy surname: Bengio monogr: title: Advances in Neural Information Processing Systems, (NIPS) imprint: date: 2016 note: Łukasz Kaiser and Samy Bengio. Can active memory replace attention? In Advances in Neural Information Processing Systems, (NIPS), 2016. biblStruct: analytic: title: Neural GPUs learn algorithms author: persName: forename: Łukasz surname: Kaiser author: persName: forename: Ilya surname: Sutskever monogr: title: International Conference on Learning Representations (ICLR) imprint: date: 2016 note: Łukasz Kaiser and Ilya Sutskever. Neural GPUs learn algorithms. In International Conference on Learning Representations (ICLR), 2016. biblStruct: monogr: author: persName: forename: Nal surname: Kalchbrenner author: persName: forename: Lasse surname: Espeholt author: persName: forename: Karen surname: Simonyan author: persName: forename: Aaron surname: Van Den Oord author: persName: forename: Alex surname: Graves author: persName: forename: Koray surname: Kavukcuoglu idno: arXiv:1610.10099v2 title: Neural machine translation in linear time imprint: date: 2017 note: arXiv preprint note: Nal Kalchbrenner, Lasse Espeholt, Karen Simonyan, Aaron van den Oord, Alex Graves, and Ko- ray Kavukcuoglu. Neural machine translation in linear time. arXiv preprint arXiv:1610.10099v2, 2017. biblStruct: analytic: title: Structured attention networks author: persName: forename: Yoon surname: Kim author: persName: forename: Carl surname: Denton author: persName: forename: Luong surname: Hoang author: persName: forename: Alexander forename: M surname: Rush monogr: title: International Conference on Learning Representations imprint: date: 2017 note: Yoon Kim, Carl Denton, Luong Hoang, and Alexander M. Rush. Structured attention networks. In International Conference on Learning Representations, 2017. biblStruct: analytic: title: Adam: A method for stochastic optimization author: persName: forename: Diederik surname: Kingma author: persName: forename: Jimmy surname: Ba monogr: title: ICLR imprint: date: 2015 note: Diederik Kingma and Jimmy Ba. Adam: A method for stochastic optimization. In ICLR, 2015. biblStruct: monogr: author: persName: forename: Oleksii surname: Kuchaiev author: persName: forename: Boris surname: Ginsburg idno: arXiv:1703.10722 title: Factorization tricks for LSTM networks imprint: date: 2017 note: arXiv preprint note: Oleksii Kuchaiev and Boris Ginsburg. Factorization tricks for LSTM networks. arXiv preprint arXiv:1703.10722, 2017. biblStruct: monogr: title: A structured self-attentive sentence embedding author: persName: forename: Zhouhan surname: Lin author: persName: forename: Minwei surname: Feng author: persName: forename: Cicero surname: Nogueira Dos Santos author: persName: forename: Mo surname: Yu author: persName: forename: Bing surname: Xiang author: persName: forename: Bowen surname: Zhou author: persName: forename: Yoshua surname: Bengio idno: arXiv:1703.03130 imprint: date: 2017 note: arXiv preprint note: Zhouhan Lin, Minwei Feng, Cicero Nogueira dos Santos, Mo Yu, Bing Xiang, Bowen Zhou, and Yoshua Bengio. A structured self-attentive sentence embedding. arXiv preprint arXiv:1703.03130, 2017. biblStruct: monogr: title: Multi-task sequence to sequence learning author: persName: forename: Minh-Thang surname: Luong author: persName: forename: Quoc forename: V surname: Le author: persName: forename: Ilya surname: Sutskever author: persName: forename: Oriol surname: Vinyals author: persName: forename: Lukasz surname: Kaiser idno: arXiv:1511.06114 imprint: date: 2015 note: arXiv preprint note: Minh-Thang Luong, Quoc V. Le, Ilya Sutskever, Oriol Vinyals, and Lukasz Kaiser. Multi-task sequence to sequence learning. arXiv preprint arXiv:1511.06114, 2015. biblStruct: monogr: title: Effective approaches to attentionbased neural machine translation author: persName: forename: Minh-Thang surname: Luong author: persName: forename: Hieu surname: Pham author: persName: forename: Christopher forename: D surname: Manning idno: arXiv:1508.04025 imprint: date: 2015 note: arXiv preprint note: Minh-Thang Luong, Hieu Pham, and Christopher D Manning. Effective approaches to attention- based neural machine translation. arXiv preprint arXiv:1508.04025, 2015. biblStruct: analytic: title: Building a large annotated corpus of english: The penn treebank author: persName: forename: Mary surname: Mitchell P Marcus author: persName: forename: Ann surname: Marcinkiewicz author: persName: forename: Beatrice surname: Santorini monogr: title: Computational linguistics imprint: biblScope: 19 biblScope: 2 date: 1993 note: Mitchell P Marcus, Mary Ann Marcinkiewicz, and Beatrice Santorini. Building a large annotated corpus of english: The penn treebank. Computational linguistics, 19(2):313-330, 1993. biblStruct: analytic: title: Effective self-training for parsing author: persName: forename: David surname: Mcclosky author: persName: forename: Eugene surname: Charniak author: persName: forename: Mark surname: Johnson monogr: title: Proceedings of the Human Language Technology Conference of the NAACL, Main Conference meeting: the Human Language Technology Conference of the NAACL, Main Conference imprint: date: June 2006 note: David McClosky, Eugene Charniak, and Mark Johnson. Effective self-training for parsing. In Proceedings of the Human Language Technology Conference of the NAACL, Main Conference, pages 152-159. ACL, June 2006. biblStruct: analytic: title: A decomposable attention model author: persName: forename: Ankur surname: Parikh author: persName: forename: Oscar surname: Täckström author: persName: forename: Dipanjan surname: Das author: persName: forename: Jakob surname: Uszkoreit monogr: title: Empirical Methods in Natural Language Processing imprint: date: 2016 note: Ankur Parikh, Oscar Täckström, Dipanjan Das, and Jakob Uszkoreit. A decomposable attention model. In Empirical Methods in Natural Language Processing, 2016. biblStruct: monogr: author: persName: forename: Romain surname: Paulus author: persName: forename: Caiming surname: Xiong author: persName: forename: Richard surname: Socher idno: arXiv:1705.04304 title: A deep reinforced model for abstractive summarization imprint: date: 2017 note: arXiv preprint note: Romain Paulus, Caiming Xiong, and Richard Socher. A deep reinforced model for abstractive summarization. arXiv preprint arXiv:1705.04304, 2017. biblStruct: analytic: title: Learning accurate, compact, and interpretable tree annotation author: persName: forename: Slav surname: Petrov author: persName: forename: Leon surname: Barrett author: persName: forename: Romain surname: Thibaux author: persName: forename: Dan surname: Klein monogr: title: Proceedings of the 21st International Conference on Computational Linguistics and 44th Annual Meeting of the ACL meeting: the 21st International Conference on Computational Linguistics and 44th Annual Meeting of the ACL imprint: date: July 2006 note: Slav Petrov, Leon Barrett, Romain Thibaux, and Dan Klein. Learning accurate, compact, and interpretable tree annotation. In Proceedings of the 21st International Conference on Computational Linguistics and 44th Annual Meeting of the ACL, pages 433-440. ACL, July 2006. biblStruct: monogr: title: Using the output embedding to improve language models idno: arXiv:1608.05859 imprint: date: 2016 publisher: Ofir Press and Lior Wolf note: arXiv preprint note: Ofir Press and Lior Wolf. Using the output embedding to improve language models. arXiv preprint arXiv:1608.05859, 2016. biblStruct: monogr: author: persName: forename: Rico surname: Sennrich author: persName: forename: Barry surname: Haddow author: persName: forename: Alexandra surname: Birch idno: arXiv:1508.07909 title: Neural machine translation of rare words with subword units imprint: date: 2015 note: arXiv preprint note: Rico Sennrich, Barry Haddow, and Alexandra Birch. Neural machine translation of rare words with subword units. arXiv preprint arXiv:1508.07909, 2015. biblStruct: monogr: title: Outrageously large neural networks: The sparsely-gated mixture-of-experts layer author: persName: forename: Noam surname: Shazeer author: persName: forename: Azalia surname: Mirhoseini author: persName: forename: Krzysztof surname: Maziarz author: persName: forename: Andy surname: Davis author: persName: forename: Quoc surname: Le author: persName: forename: Geoffrey surname: Hinton author: persName: forename: Jeff surname: Dean idno: arXiv:1701.06538 imprint: date: 2017 note: arXiv preprint note: Noam Shazeer, Azalia Mirhoseini, Krzysztof Maziarz, Andy Davis, Quoc Le, Geoffrey Hinton, and Jeff Dean. Outrageously large neural networks: The sparsely-gated mixture-of-experts layer. arXiv preprint arXiv:1701.06538, 2017. biblStruct: analytic: title: Dropout: a simple way to prevent neural networks from overfitting author: persName: forename: Nitish surname: Srivastava author: persName: forename: Geoffrey forename: E surname: Hinton author: persName: forename: Alex surname: Krizhevsky author: persName: forename: Ilya surname: Sutskever author: persName: forename: Ruslan surname: Salakhutdinov monogr: title: Journal of Machine Learning Research imprint: biblScope: 15 biblScope: 1 date: 2014 note: Nitish Srivastava, Geoffrey E Hinton, Alex Krizhevsky, Ilya Sutskever, and Ruslan Salakhutdi- nov. Dropout: a simple way to prevent neural networks from overfitting. Journal of Machine Learning Research, 15(1):1929-1958, 2014. biblStruct: analytic: title: End-to-end memory networks author: persName: forename: Sainbayar surname: Sukhbaatar author: persName: forename: Arthur surname: Szlam author: persName: forename: Jason surname: Weston author: persName: forename: Rob surname: Fergus monogr: title: Advances in Neural Information Processing Systems editor: persName: forename: C surname: Cortes editor: persName: forename: N forename: D surname: Lawrence editor: persName: forename: D forename: D surname: Lee editor: persName: forename: M surname: Sugiyama editor: persName: forename: R surname: Garnett imprint: publisher: Curran Associates, Inc date: 2015 biblScope: 28 note: Sainbayar Sukhbaatar, Arthur Szlam, Jason Weston, and Rob Fergus. End-to-end memory networks. In C. Cortes, N. D. Lawrence, D. D. Lee, M. Sugiyama, and R. Garnett, editors, Advances in Neural Information Processing Systems 28, pages 2440-2448. Curran Associates, Inc., 2015. biblStruct: analytic: title: Sequence to sequence learning with neural networks author: persName: forename: Ilya surname: Sutskever author: persName: forename: Oriol surname: Vinyals author: persName: forename: Quoc Vv surname: Le monogr: title: Advances in Neural Information Processing Systems imprint: date: 2014 note: Ilya Sutskever, Oriol Vinyals, and Quoc VV Le. Sequence to sequence learning with neural networks. In Advances in Neural Information Processing Systems, pages 3104-3112, 2014. biblStruct: monogr: title: Rethinking the inception architecture for computer vision author: persName: forename: Christian surname: Szegedy author: persName: forename: Vincent surname: Vanhoucke author: persName: forename: Sergey surname: Ioffe author: persName: forename: Jonathon surname: Shlens author: persName: forename: Zbigniew surname: Wojna idno: CoRR, abs/1512.00567 imprint: date: 2015 note: Christian Szegedy, Vincent Vanhoucke, Sergey Ioffe, Jonathon Shlens, and Zbigniew Wojna. Rethinking the inception architecture for computer vision. CoRR, abs/1512.00567, 2015. biblStruct: analytic: title: Grammar as a foreign language author: persName: surname: Vinyals author: persName: forename: Koo surname: Kaiser author: persName: surname: Petrov author: persName: surname: Sutskever author: persName: surname: Hinton monogr: title: Advances in Neural Information Processing Systems imprint: date: 2015 note: Vinyals & Kaiser, Koo, Petrov, Sutskever, and Hinton. Grammar as a foreign language. In Advances in Neural Information Processing Systems, 2015. biblStruct: monogr: author: persName: forename: Yonghui surname: Wu author: persName: forename: Mike surname: Schuster author: persName: forename: Zhifeng surname: Chen author: persName: forename: V surname: Quoc author: persName: forename: Mohammad surname: Le author: persName: forename: Wolfgang surname: Norouzi author: persName: forename: Maxim surname: Macherey author: persName: forename: Yuan surname: Krikun author: persName: forename: Qin surname: Cao author: persName: forename: Klaus surname: Gao author: persName: surname: Macherey idno: arXiv:1609.08144 title: Google\\'s neural machine translation system: Bridging the gap between human and machine translation imprint: date: 2016 note: arXiv preprint note: Yonghui Wu, Mike Schuster, Zhifeng Chen, Quoc V Le, Mohammad Norouzi, Wolfgang Macherey, Maxim Krikun, Yuan Cao, Qin Gao, Klaus Macherey, et al. Google\\'s neural machine translation system: Bridging the gap between human and machine translation. arXiv preprint arXiv:1609.08144, 2016. biblStruct: monogr: title: Deep recurrent models with fast-forward connections for neural machine translation author: persName: forename: Jie surname: Zhou author: persName: forename: Ying surname: Cao author: persName: forename: Xuguang surname: Wang author: persName: forename: Peng surname: Li author: persName: forename: Wei surname: Xu idno: CoRR, abs/1606.04199 imprint: date: 2016 note: Jie Zhou, Ying Cao, Xuguang Wang, Peng Li, and Wei Xu. Deep recurrent models with fast-forward connections for neural machine translation. CoRR, abs/1606.04199, 2016. biblStruct: analytic: title: Fast and accurate shift-reduce constituent parsing author: persName: forename: Muhua surname: Zhu author: persName: forename: Yue surname: Zhang author: persName: forename: Wenliang surname: Chen author: persName: forename: Min surname: Zhang author: persName: forename: Jingbo surname: Zhu monogr: title: Proceedings of the 51st Annual Meeting of the ACL meeting: the 51st Annual Meeting of the ACL imprint: date: August 2013 biblScope: 1 note: Long Papers) note: Muhua Zhu, Yue Zhang, Wenliang Chen, Min Zhang, and Jingbo Zhu. Fast and accurate shift-reduce constituent parsing. In Proceedings of the 51st Annual Meeting of the ACL (Volume 1: Long Papers), pages 434-443. ACL, August 2013.'"
      ]
     },
     "execution_count": 55,
     "metadata": {},
     "output_type": "execute_result"
    }
   ],
   "source": [
    "(xml_string)"
   ]
  },
  {
   "cell_type": "markdown",
   "metadata": {},
   "source": [
    "# vectorize test"
   ]
  },
  {
   "cell_type": "code",
   "execution_count": 56,
   "metadata": {},
   "outputs": [
    {
     "name": "stdout",
     "output_type": "stream",
     "text": [
      "Started Qdrant client.\n",
      "Collection 'aireas-local' created successfully.\n"
     ]
    }
   ],
   "source": [
    "from helpers import extract_text_from_pdf\n",
    "from team_tools import COLLECTION_NAME, EMBEDDING_MODEL\n",
    "from langchain.text_splitter import RecursiveCharacterTextSplitter\n",
    "from qdrant_client.http import models\n",
    "from uuid import uuid4\n",
    "from qdrant_ops import connect_to_qdrant\n",
    "\n",
    "client_ = connect_to_qdrant()\n",
    "collection_name = COLLECTION_NAME\n",
    "emb_model = EMBEDDING_MODEL\n",
    "\n",
    "text_splitter = RecursiveCharacterTextSplitter(chunk_size=2100, chunk_overlap=210)\n",
    "text_chunks = text_splitter.split_text(xml_string)\n",
    "\n",
    "# Generate embeddings for the text chunks\n",
    "embeddings = emb_model.embed_documents(text_chunks)\n",
    "\n",
    "points = [\n",
    "    models.PointStruct(\n",
    "        id=str(uuid4()),  # Ensure unique ID by combining file name and index\n",
    "        payload={\n",
    "            \"text\": text_chunks[i]  # Store the text chunk\n",
    "        },\n",
    "        vector=embedding  # Convert to list if needed\n",
    "    )\n",
    "    for i, embedding in enumerate(embeddings)\n",
    "]\n",
    "\n",
    "# Upsert points into Qdrant collection\n",
    "upsert_response = client_.upsert(collection_name=collection_name, points=points)\n",
    "\n"
   ]
  },
  {
   "cell_type": "code",
   "execution_count": 57,
   "metadata": {},
   "outputs": [
    {
     "data": {
      "text/plain": [
       "[{'id': 'd44834cf-9944-420b-bb85-952e7dd65e69',\n",
       "  'score': 0.65959656,\n",
       "  'text': 'teiHeader: fileDesc: titleStmt: title: Provided proper attribution is provided, Google hereby grants permission to reproduce the tables and figures in this paper solely for use in journalistic or scholarly works. Attention Is All You Need publicationStmt: date: 2 Aug 2023 sourceDesc: biblStruct: analytic: author: persName: forename: Ashish surname: Vaswani email: avaswani@google.com affiliation: note: Google Brain Google Research Google Research Google Research University of Toronto Google Brain 31st Conference on Neural Information Processing Systems (NIPS 2017) , Long Beach , CA , USA. orgName: Google Brain orgName: Google Research orgName: Google Research orgName: Google Research orgName: Google Brain orgName: 31st Conference on Neural Information Processing Systems (NIPS 2017) orgName: University of Toronto address: settlement: Long Beach region: CA country: USA author: persName: forename: Noam surname: Shazeer affiliation: note: Google Brain Google Research Google Research Google Research University of Toronto Google Brain 31st Conference on Neural Information Processing Systems (NIPS 2017) , Long Beach , CA , USA. orgName: Google Brain orgName: Google Research orgName: Google Research orgName: Google Research orgName: Google Brain orgName: 31st Conference on Neural Information Processing Systems (NIPS 2017) orgName: University of Toronto address: settlement: Long Beach region: CA country: USA author: persName: forename: Google surname: Brain affiliation: note: Google Brain Google Research Google Research Google Research University of Toronto Google Brain 31st Conference on Neural Information Processing Systems (NIPS 2017) , Long Beach , CA , USA. orgName: Google Brain orgName: Google Research orgName: Google Research orgName: Google Research orgName: Google Brain orgName: 31st Conference on Neural Information Processing Systems (NIPS 2017) orgName: University of Toronto address: settlement: Long Beach region: CA country: USA author: persName: forename: Niki surname: Parmar email: nikip@google.com affiliation: note: Google Brain Google Research Google'},\n",
       " {'id': 'de955eb3-244a-4814-9530-39d834827293',\n",
       "  'score': 0.64613676,\n",
       "  'text': 'Google Brain 31st Conference on Neural Information Processing Systems (NIPS 2017) , Long Beach , CA , USA. orgName: Google Brain orgName: Google Research orgName: Google Research orgName: Google Research orgName: Google Brain orgName: 31st Conference on Neural Information Processing Systems (NIPS 2017) orgName: University of Toronto address: settlement: Long Beach region: CA country: USA author: persName: forename: Łukasz surname: Kaiser email: lukaszkaiser@google.com affiliation: note: Google Brain Google Research Google Research Google Research University of Toronto Google Brain 31st Conference on Neural Information Processing Systems (NIPS 2017) , Long Beach , CA , USA. orgName: Google Brain orgName: Google Research orgName: Google Research orgName: Google Research orgName: Google Brain orgName: 31st Conference on Neural Information Processing Systems (NIPS 2017) orgName: University of Toronto address: settlement: Long Beach region: CA country: USA title: Provided proper attribution is provided, Google hereby grants permission to reproduce the tables and figures in this paper solely for use in journalistic or scholarly works. Attention Is All You Need monogr: imprint: date: 2 Aug 2023 idno: 18E1B007A1DAB45B30CC861BA2DFDA25 idno: arXiv:1706.03762v7[cs.CL] encodingDesc: appInfo: application: desc: GROBID - A machine learning software for extracting information from scholarly documents profileDesc: abstract: div: p: The dominant sequence transduction models are based on complex recurrent or convolutional neural networks that include an encoder and a decoder. The best performing models also connect the encoder and decoder through an attention mechanism. We propose a new simple network architecture, the Transformer, based solely on attention mechanisms, dispensing with recurrence and convolutions entirely. Experiments on two machine translation tasks show these models to be superior in quality while being more parallelizable and requiring significantly less time to train. Our model achieves 28.4 BLEU on the WMT 2014 Englishto-German translation task, improving over'}]"
      ]
     },
     "execution_count": 57,
     "metadata": {},
     "output_type": "execute_result"
    }
   ],
   "source": [
    "query_embeddings = EMBEDDING_MODEL.embed_query('give me the abstract of attention is all you need.')\n",
    "\n",
    "# Query points from Qdrant\n",
    "search_result = client_.query_points(\n",
    "    collection_name=COLLECTION_NAME,\n",
    "    query=query_embeddings,\n",
    "    with_payload=True,\n",
    "    limit=2,\n",
    ")\n",
    "\n",
    "# Extracting necessary details\n",
    "results = []\n",
    "if hasattr(search_result, 'points'):\n",
    "    for point in search_result.points:  # Access the points attribute\n",
    "        results.append({\n",
    "            \"id\": point.id,\n",
    "            \"score\": point.score,\n",
    "            \"text\": point.payload.get('text'),\n",
    "        })\n",
    "\n",
    "results\n"
   ]
  },
  {
   "cell_type": "code",
   "execution_count": null,
   "metadata": {},
   "outputs": [],
   "source": []
  },
  {
   "cell_type": "code",
   "execution_count": 25,
   "metadata": {},
   "outputs": [],
   "source": [
    "# import fitz\n",
    "# from langchain.text_splitter import RecursiveCharacterTextSplitter\n",
    "\n",
    "# file_name = \"static/files/a.pdf\"\n",
    "# file_path = os.path.join(file_name)\n",
    "\n",
    "# pdf_text = \"\"\n",
    "# with fitz.open(file_path) as pdf_document:\n",
    "#     for page_num in range(pdf_document.page_count):\n",
    "#         page = pdf_document[page_num]\n",
    "#         pdf_text += page.get_text()\n",
    "\n",
    "# # Check if text extraction was successful\n",
    "# if not pdf_text:\n",
    "#     raise ValueError(\"Failed to extract text from the PDF.\")\n",
    "\n",
    "# # Split the extracted text into chunks\n",
    "# text_splitter = RecursiveCharacterTextSplitter(chunk_size=2100, chunk_overlap=210)\n",
    "# text_chunks = text_splitter.split_text(pdf_text)\n",
    "\n",
    "# text_chunks = [''.join(text) for text in text_chunks]\n",
    "# # Print each chunk\n",
    "# for i, chunk in enumerate(text_chunks):\n",
    "#     print(chunk)"
   ]
  },
  {
   "cell_type": "markdown",
   "metadata": {},
   "source": [
    "# complete fn"
   ]
  },
  {
   "cell_type": "code",
   "execution_count": null,
   "metadata": {},
   "outputs": [],
   "source": [
    "import os\n",
    "from grobid_client.grobid_client import GrobidClient\n",
    "import xml.etree.ElementTree as ET\n",
    "from uuid import uuid4\n",
    "# Import any necessary modules for Qdrant client and text extraction here.\n",
    "\n",
    "def strip_namespace(tag):\n",
    "    \"\"\"Remove the namespace from XML tags.\"\"\"\n",
    "    return tag.split('}')[-1]\n",
    "\n",
    "def xml_to_string(element, indent=0):\n",
    "    \"\"\"Convert XML elements to a nested string representation.\"\"\"\n",
    "    result = \"\"\n",
    "    for child in element:\n",
    "        child_tag = strip_namespace(child.tag)\n",
    "        child_string = xml_to_string(child, indent + 2)\n",
    "        \n",
    "        if child.text and child.text.strip():\n",
    "            result += ' ' * indent + f\"{child_tag}: {child.text.strip()}\\n\"\n",
    "        \n",
    "        if child_string:\n",
    "            result += ' ' * indent + f\"{child_tag}:\\n{child_string}\"\n",
    "\n",
    "    return result\n",
    "\n",
    "async def process_and_store_pdfs(files, client_, collection_name, emb_model, upload_directory='static/files/'):\n",
    "    uploaded_files_info = {}\n",
    "    grobid_client = GrobidClient(config_path=\"./config.json\")\n",
    "    service_name = \"processFulltextDocument\"\n",
    "    \n",
    "    for file in files:\n",
    "        # Step 1: Save the uploaded PDF file\n",
    "        pdf_file_path = os.path.join(upload_directory, file.filename)\n",
    "        with open(pdf_file_path, \"wb\") as f:\n",
    "            f.write(await file.read())\n",
    "        \n",
    "        # Step 2: Create XML from the PDF using Grobid\n",
    "        rsp, s, tx = grobid_client.process_pdf(\n",
    "            service_name,\n",
    "            pdf_file_path,\n",
    "            generateIDs=False,\n",
    "            consolidate_header=True,\n",
    "            consolidate_citations=True,\n",
    "            include_raw_citations=True,\n",
    "            include_raw_affiliations=True,\n",
    "            tei_coordinates=True,\n",
    "            segment_sentences=False,\n",
    "        )\n",
    "        \n",
    "        # Save the XML to the 'metas' directory\n",
    "        xml_output_path = os.path.join('metas', f'{file.filename.split(\".\")[0]}.grobid.xml')\n",
    "        with open(xml_output_path, 'w', encoding='utf-8') as xml_file:\n",
    "            xml_file.write(tx)\n",
    "        \n",
    "        print(f\"XML saved to: {xml_output_path}\")\n",
    "\n",
    "        # Step 3: Read the XML and get the string representation\n",
    "        tree = ET.parse(xml_output_path)\n",
    "        root = tree.getroot()\n",
    "        xml_string = xml_to_string(root)\n",
    "        \n",
    "        # Step 4: Perform text splitting\n",
    "        # Assuming extract_text_from_pdf is a defined function\n",
    "        text_splitter = RecursiveCharacterTextSplitter(chunk_size=2100, chunk_overlap=210)\n",
    "        text_chunks = text_splitter.split_text(xml_string)  # Change if you want to split from another source\n",
    "\n",
    "        # Step 5: Generate embeddings for the text chunks\n",
    "        embeddings = emb_model.embed_documents(text_chunks)\n",
    "\n",
    "        # Step 6: Upsert points into Qdrant collection\n",
    "        points = [\n",
    "            models.PointStruct(\n",
    "                id=str(uuid4()),\n",
    "                payload={\n",
    "                    \"pdf_id\": file.filename,\n",
    "                    \"text\": text_chunks[i]\n",
    "                },\n",
    "                vector=embedding.tolist()  # Ensure this is a list\n",
    "            )\n",
    "            for i, embedding in enumerate(embeddings)\n",
    "        ]\n",
    "        \n",
    "        upsert_response = client_.upsert(collection_name=collection_name, points=points)\n",
    "\n",
    "        uploaded_files_info[file.filename] = {\n",
    "            \"file_name\": file.filename,\n",
    "            \"total_chunks\": len(text_chunks),\n",
    "            \"upsert_response\": upsert_response\n",
    "        }\n",
    "\n",
    "    return uploaded_files_info\n"
   ]
  }
 ],
 "metadata": {
  "kernelspec": {
   "display_name": "myenv",
   "language": "python",
   "name": "python3"
  },
  "language_info": {
   "codemirror_mode": {
    "name": "ipython",
    "version": 3
   },
   "file_extension": ".py",
   "mimetype": "text/x-python",
   "name": "python",
   "nbconvert_exporter": "python",
   "pygments_lexer": "ipython3",
   "version": "3.12.3"
  }
 },
 "nbformat": 4,
 "nbformat_minor": 2
}
