{
 "cells": [
  {
   "cell_type": "code",
   "execution_count": 3,
   "metadata": {},
   "outputs": [
    {
     "data": {
      "text/plain": [
       "True"
      ]
     },
     "execution_count": 3,
     "metadata": {},
     "output_type": "execute_result"
    }
   ],
   "source": [
    "from dotenv import load_dotenv\n",
    "from pprint import pprint\n",
    "# Load environment variables\n",
    "load_dotenv()"
   ]
  },
  {
   "cell_type": "code",
   "execution_count": 5,
   "metadata": {},
   "outputs": [],
   "source": [
    "from langchain_groq import ChatGroq\n",
    "\n",
    "llm = ChatGroq(model=\"llama-3.2-90b-vision-preview\")\n"
   ]
  },
  {
   "cell_type": "code",
   "execution_count": 35,
   "metadata": {},
   "outputs": [],
   "source": [
    "from typing import Annotated\n",
    "\n",
    "from typing_extensions import TypedDict\n",
    "\n",
    "from langgraph.graph import StateGraph, START, END\n",
    "from langgraph.graph.message import add_messages\n",
    "\n",
    "from langchain_community.tools.tavily_search import TavilySearchResults\n",
    "from langchain_community.document_loaders import WebBaseLoader\n",
    "from langchain_core.tools import StructuredTool, ToolException\n",
    "from typing import List, Annotated\n",
    "from langchain.agents import load_tools\n",
    "from langchain_experimental.utilities import PythonREPL\n",
    "from langgraph.prebuilt import ToolNode\n",
    "from langgraph.checkpoint.memory import MemorySaver\n",
    "from langgraph.graph.message import AnyMessage, add_messages\n",
    "\n"
   ]
  },
  {
   "cell_type": "code",
   "execution_count": 68,
   "metadata": {},
   "outputs": [
    {
     "name": "stdout",
     "output_type": "stream",
     "text": [
      "'chatbot'\n",
      "Goodbye!\n"
     ]
    }
   ],
   "source": [
    "\n",
    "memory = MemorySaver()\n",
    "c = {\"configurable\": {\"thread_id\": \"1\"}}\n",
    "\n",
    "class State(TypedDict):\n",
    "    messages: Annotated[list[AnyMessage], add_messages]\n",
    "\n",
    "\n",
    "graph_builder = StateGraph(State)\n",
    "\n",
    "def chatbot(state: State):\n",
    "    ans = llm_with_tools.invoke(state[\"messages\"], config=c['configurable'])\n",
    "    return {\"messages\": [ans]}\n",
    "\n",
    "\n",
    "graph_builder.add_node(\"chatbot\", chatbot)\n",
    "graph_builder.add_edge(START, \"chatbot\")\n",
    "graph_builder.add_edge(\"chatbot\", END)\n",
    "graph = graph_builder.compile(checkpointer=memory)\n",
    "\n",
    "\n",
    "def stream_graph_updates(user_input: str):\n",
    "    for event in graph.stream({\"messages\": [(\"user\", user_input)]}, config=c):\n",
    "        for value in event:\n",
    "            pprint(value)\n",
    "\n",
    "\n",
    "while True:\n",
    "    user_input = input(\"User: \")\n",
    "    if user_input.lower() in [\"quit\", \"exit\", \"q\"]:\n",
    "        print(\"Goodbye!\")\n",
    "        break\n",
    "\n",
    "    stream_graph_updates(user_input)\n"
   ]
  },
  {
   "cell_type": "code",
   "execution_count": 61,
   "metadata": {},
   "outputs": [
    {
     "data": {
      "text/plain": [
       "{'messages': [HumanMessage(content='helo', additional_kwargs={}, response_metadata={}, id='0610b76f-4fe9-4e45-85cd-07d7ce6770e9'),\n",
       "  AIMessage(content='Hello. How can I help you today?', additional_kwargs={}, response_metadata={'token_usage': {'completion_tokens': 10, 'prompt_tokens': 37, 'total_tokens': 47, 'completion_time': 0.052339809, 'prompt_time': 0.010652839, 'queue_time': 0.00690091, 'total_time': 0.062992648}, 'model_name': 'llama-3.2-90b-vision-preview', 'system_fingerprint': 'fp_9c2a937c92', 'finish_reason': 'stop', 'logprobs': None}, id='run-59029e57-19aa-4140-8d60-b78ecadfb8c5-0', usage_metadata={'input_tokens': 37, 'output_tokens': 10, 'total_tokens': 47})]}"
      ]
     },
     "execution_count": 61,
     "metadata": {},
     "output_type": "execute_result"
    }
   ],
   "source": [
    "state = graph.get_state(c)  # Get the current state for a given config\n",
    "state.values"
   ]
  },
  {
   "cell_type": "code",
   "execution_count": 134,
   "metadata": {},
   "outputs": [],
   "source": [
    "\n",
    "from langchain_core.callbacks import CallbackManagerForRetrieverRun\n",
    "from langchain_core.documents import Document\n",
    "from langchain_core.retrievers import BaseRetriever\n",
    "from qdrant_client import QdrantClient\n",
    "from langchain_google_genai import GoogleGenerativeAIEmbeddings\n",
    "from typing import List\n",
    "\n",
    "class QdrantRetriever(BaseRetriever):\n",
    "    client_: QdrantClient\n",
    "    embedding_model_: GoogleGenerativeAIEmbeddings\n",
    "    collection_name_: str \n",
    "    with_payload_: bool \n",
    "    limit_: int  \n",
    "\n",
    "    def _get_relevant_documents(\n",
    "        self, query: str, *, run_manager: CallbackManagerForRetrieverRun = None\n",
    "    ) -> List[Document]:\n",
    "        # Generate query embeddings\n",
    "        query_embeddings = self.embedding_model_.embed_query(query)\n",
    "\n",
    "        # Perform a search in Qdrant using the client\n",
    "        search_result = self.client_.query_points(  # Use self.client_\n",
    "            collection_name=self.collection_name_,  # Use self.collection_name_\n",
    "            query=query_embeddings,\n",
    "            with_payload=self.with_payload_,  # Use self.with_payload_\n",
    "            limit=self.limit_,  # Use self.limit_\n",
    "        )\n",
    "\n",
    "        # Extract documents from search results\n",
    "        documents = []\n",
    "        if hasattr(search_result, 'points'):\n",
    "            for point in search_result.points:\n",
    "                document = Document(\n",
    "                    page_content=point.payload.get(\"text\", \"\"),\n",
    "                    metadata={\"pdf_id\": point.payload.get(\"pdf_id\", \"\"), \"score\": point.score}\n",
    "                )\n",
    "                documents.append(document)\n",
    "\n",
    "        return documents\n",
    "\n",
    "# Instantiate QdrantRetriever with required parameters\n",
    "Qretriever = QdrantRetriever(\n",
    "    client_=client,\n",
    "    collection_name_=COLLECTION_NAME,\n",
    "    embedding_model_=EMBEDDING_MODEL,\n",
    "    limit_=3,\n",
    "    with_payload_=True\n",
    ")\n",
    "\n",
    "from langchain.tools.retriever import create_retriever_tool\n",
    "\n",
    "retriever_tool = create_retriever_tool(\n",
    "    Qretriever,\n",
    "    \"qdrant_retriever\",\n",
    "    \"Search and return information about query provided by the user from the vectore store.\",\n",
    ")\n",
    "\n",
    "\n",
    "\n",
    "# Load tools\n",
    "arxiv_search_tool = load_tools([\"arxiv\"])[0]  # Assuming it returns a list, get the first tool\n",
    "\n",
    "# Tavily search\n",
    "tavily_search_tool = TavilySearchResults(max_results=2)\n",
    "\n",
    "# Web scraper class\n",
    "class WebScraper:\n",
    "    def __init__(self, urls: List[str]):\n",
    "        self.urls = urls\n",
    "\n",
    "    def scrape_webpages(self) -> str:\n",
    "        \"\"\"Scrape the provided web pages for detailed information.\"\"\"\n",
    "        try:\n",
    "            loader = WebBaseLoader(self.urls)\n",
    "            docs = loader.load()\n",
    "            return \"\\n\\n\".join(\n",
    "                [\n",
    "                    f'<Document name=\"{doc.metadata.get(\"title\", \"\")}\">\\n{doc.page_content}\\n</Document>'\n",
    "                    for doc in docs\n",
    "                ]\n",
    "            )\n",
    "        except ToolException as e:\n",
    "            return self._handle_error(e)\n",
    "\n",
    "    def _handle_error(self, error: ToolException) -> str:\n",
    "        return f\"The following errors occurred during tool execution: `{error.args[0]}`\"\n",
    "\n",
    "web_scraper_tool = StructuredTool.from_function(\n",
    "    func=WebScraper.scrape_webpages,\n",
    "    handle_tool_error=WebScraper._handle_error\n",
    ")\n",
    "\n",
    "# Python REPL tool\n",
    "repl = PythonREPL()\n",
    "\n",
    "def python_repl(\n",
    "    code: Annotated[str, \"The Python code to execute to generate visualization.\"],):\n",
    "    \"\"\"Execute Python code.\"\"\"\n",
    "    try:\n",
    "        result = repl.run(code)\n",
    "    except ToolException as e:\n",
    "        return f\"Failed to execute. Error: {repr(e)}\"\n",
    "    return f\"Successfully executed:\\n```python\\n{code}\\n```\\nStdout: {result}\"\n",
    "\n",
    "repl_tool = StructuredTool.from_function(\n",
    "    func=python_repl,\n",
    ")\n",
    "\n",
    "# Create the tool node\n",
    "tools = [tavily_search_tool, web_scraper_tool, repl_tool, arxiv_search_tool, retriever_tool]\n",
    "tool_node = ToolNode(tools=tools)\n",
    "\n"
   ]
  },
  {
   "cell_type": "code",
   "execution_count": 150,
   "metadata": {},
   "outputs": [],
   "source": [
    "llm_with_tools = llm.bind_tools(tools)\n",
    "\n",
    "# llm_with_tools.invoke('what is the encoder in attention is all yu need').tool_calls\n",
    "# (tool_node.invoke({\"messages\": [llm_with_tools.invoke('what is the encoder in attention is all yu need')]}))['messages'][-1].content"
   ]
  },
  {
   "cell_type": "code",
   "execution_count": null,
   "metadata": {},
   "outputs": [],
   "source": [
    "# llm_with_tools.invoke('similar papers to Attention is all you need paper, and GAN').tool_calls"
   ]
  },
  {
   "cell_type": "code",
   "execution_count": 13,
   "metadata": {},
   "outputs": [],
   "source": [
    "prompt = \"\"\"For the following research task, create a structured plan to solve the problem step-by-step. For each plan, specify \\\n",
    "which external tool along with the tool input to gather or process evidence, which you can then store in \\\n",
    "a variable #E that can be referenced by later steps. Use the format (Plan, #E1, Plan, #E2, Plan, ...).\n",
    "\n",
    "Available tools:\n",
    "(1) arxiv_search_tool[input]: Searches for relevant academic papers and information on research topics from Arxiv. Useful for retrieving scholarly articles, studies, or theories. Input should be a search query or research question.\n",
    "(2) tavily_search_tool[input]: A search tool useful for web queries related to technical or general information from the internet. Best for gathering supplementary information and broader web search results. Input should be a specific question or topic.\n",
    "(3) web_scraper_tool[input]: Extracts detailed information from specific web pages. Ideal when you need in-depth content from particular sources. Input should be a list of URLs.\n",
    "(4) repl_tool[input]: Executes Python code, including for calculations and visualizations. Use when computational processing or plotting is required. Input should be Python code.\n",
    "\n",
    "Example:\n",
    "Task: Conduct a literature review on the recent advancements in GAN architectures and summarize the key findings.\n",
    "\n",
    "Plan: Search for recent research papers related to advancements in GAN architectures using arxiv_search_tool. #E1 = arxiv_search_tool[\"advancements in GAN architectures\"]\n",
    "Plan: Extract information from the results in #E1 on the key themes and architectures mentioned. #E2 = LLM[Summarize the main themes from #E1]\n",
    "Plan: Use tavily_search_tool to find additional insights and popular opinions on recent GAN innovations. #E3 = tavily_search_tool[\"recent GAN innovations\"]\n",
    "Plan: Cross-reference findings from #E2 with details from #E3 for consistency and additional insights. #E4 = LLM[Summarize #E2 and #E3 with any contrasting points]\n",
    "\n",
    "Begin! \n",
    "Provide detailed, logical plans for each step in the task. Each Plan should be followed by only one #E.\n",
    "\n",
    "Task: {task}\"\"\"\n"
   ]
  },
  {
   "cell_type": "code",
   "execution_count": 70,
   "metadata": {},
   "outputs": [],
   "source": [
    "from typing import Annotated, Literal, Sequence\n",
    "from typing_extensions import TypedDict\n",
    "\n",
    "from langchain import hub\n",
    "from langchain_core.messages import BaseMessage, HumanMessage\n",
    "from langchain_core.output_parsers import StrOutputParser\n",
    "from langchain_core.prompts import PromptTemplate\n",
    "\n",
    "from pydantic import BaseModel, Field\n",
    "\n",
    "from typing import Annotated, Sequence\n",
    "from typing_extensions import TypedDict\n",
    "\n",
    "from langchain_core.messages import BaseMessage\n",
    "\n",
    "from langgraph.graph.message import add_messages\n",
    "\n",
    "\n",
    "from langgraph.prebuilt import tools_condition\n",
    "\n",
    "from langgraph.graph.message import AnyMessage, add_messages\n",
    "\n",
    "\n",
    "class State(TypedDict):\n",
    "    messages: Annotated[list[BaseMessage], add_messages]\n",
    "    \n",
    "    plan_string: str\n",
    "    steps: List\n",
    "    results: dict\n",
    "    current_task: str"
   ]
  },
  {
   "cell_type": "code",
   "execution_count": 123,
   "metadata": {},
   "outputs": [
    {
     "name": "stdout",
     "output_type": "stream",
     "text": [
      "Started Qdrant client.\n",
      "Collection 'aireas-local' already exists.\n"
     ]
    }
   ],
   "source": [
    "from qdrant_ops import connect_to_qdrant\n",
    "\n",
    "client = connect_to_qdrant()\n",
    "\n",
    "from langchain_google_genai import GoogleGenerativeAIEmbeddings\n",
    "# Embedding model\n",
    "EMBEDDING_MODEL = GoogleGenerativeAIEmbeddings(model='models/text-embedding-004')\n",
    "\n",
    "# Collection name\n",
    "COLLECTION_NAME = 'aireas-local'"
   ]
  },
  {
   "cell_type": "code",
   "execution_count": 124,
   "metadata": {},
   "outputs": [],
   "source": [
    "query = 'abstract of Magvit'\n",
    "\n",
    "query_embeddings = EMBEDDING_MODEL.embed_query(query)\n",
    "\n",
    "# Query points from Qdrant\n",
    "search_result = client.query_points(\n",
    "    collection_name=COLLECTION_NAME,\n",
    "    query=query_embeddings,\n",
    "    with_payload=True,\n",
    "    limit=3,\n",
    ")\n",
    "\n",
    "# Extracting necessary details\n",
    "results = []\n",
    "if hasattr(search_result, 'points'):\n",
    "    for point in search_result.points:  # Access the points attribute\n",
    "        results.append({\n",
    "            \"id\": point.id,\n",
    "            \"score\": point.score,\n",
    "            \"pdf_id\": point.payload.get('pdf_id'),  # Use get to avoid KeyError\n",
    "            \"text\": point.payload.get('text'),\n",
    "        })"
   ]
  },
  {
   "cell_type": "code",
   "execution_count": 125,
   "metadata": {},
   "outputs": [],
   "source": [
    "from langchain.tools.retriever import create_retriever_tool\n",
    "\n",
    "from qdrant_client import QdrantClient\n",
    "\n",
    "from langchain_core.retrievers import BaseRetriever\n",
    "from typing import List\n",
    "\n",
    "from langchain_core.callbacks import CallbackManagerForRetrieverRun\n",
    "from langchain_core.documents import Document\n"
   ]
  },
  {
   "cell_type": "code",
   "execution_count": 130,
   "metadata": {},
   "outputs": [],
   "source": []
  },
  {
   "cell_type": "code",
   "execution_count": 133,
   "metadata": {},
   "outputs": [],
   "source": []
  },
  {
   "cell_type": "code",
   "execution_count": null,
   "metadata": {},
   "outputs": [],
   "source": []
  }
 ],
 "metadata": {
  "kernelspec": {
   "display_name": "myenv",
   "language": "python",
   "name": "python3"
  },
  "language_info": {
   "codemirror_mode": {
    "name": "ipython",
    "version": 3
   },
   "file_extension": ".py",
   "mimetype": "text/x-python",
   "name": "python",
   "nbconvert_exporter": "python",
   "pygments_lexer": "ipython3",
   "version": "3.12.3"
  }
 },
 "nbformat": 4,
 "nbformat_minor": 2
}
