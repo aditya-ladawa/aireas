{
 "cells": [
  {
   "cell_type": "markdown",
   "metadata": {},
   "source": [
    "# Imports and inits"
   ]
  },
  {
   "cell_type": "code",
   "execution_count": 2,
   "metadata": {},
   "outputs": [],
   "source": [
    "from typing_extensions import List, Optional, Union, TypedDict, Literal, Dict, Literal\n",
    "from langchain.output_parsers.openai_functions import JsonOutputFunctionsParser\n",
    "from langchain_core.prompts import ChatPromptTemplate, MessagesPlaceholder\n",
    "from langchain_core.messages import HumanMessage, BaseMessage, trim_messages, AIMessage\n",
    "from langgraph.graph import END, StateGraph, START\n",
    "from langchain_groq import ChatGroq\n",
    "from langgraph.prebuilt import create_react_agent\n",
    "from dotenv import load_dotenv\n",
    "from pprint import pprint\n",
    "import functools\n",
    "import operator\n",
    "\n",
    "from team_tools import tavily_search_tool, arxiv_search_tool, web_scraper_tool, repl_tool\n",
    "\n",
    "from qdrant_cloud_ops import initialize_selfquery_retriever, qdrant_vector_store\n",
    "from chains import decomposition_chain, requires_decomposition, rephrase_chain\n",
    "from typing import Annotated, List, Union, TypedDict\n",
    "from langchain.tools.retriever import create_retriever_tool\n",
    "from langchain_core.documents import Document\n",
    "from langchain_core.output_parsers import StrOutputParser\n",
    "\n",
    "\n",
    "\n",
    "load_dotenv()\n",
    "\n",
    "llm = ChatGroq(model='llama-3.2-90b-vision-preview')\n",
    "\n",
    "trimmer = trim_messages(\n",
    "    max_tokens=120000,\n",
    "    strategy=\"last\",\n",
    "    token_counter=llm,\n",
    "    include_system=True,\n",
    ")\n",
    "\n",
    "qdrant_retriever = initialize_selfquery_retriever(llm, qdrant_vector_store=qdrant_vector_store)\n",
    "qdrant_retriever_tool = qdrant_retriever.as_tool(\n",
    "    name=\"retrieve_research_paper_texts\",\n",
    "    description=\"Search and return information from the vector database containing texts of several research papers, and scholarly articles\",\n",
    ")\n",
    "\n",
    "dec = decomposition_chain(llm=llm)\n",
    "rdec = requires_decomposition(llm=llm)\n"
   ]
  },
  {
   "cell_type": "code",
   "execution_count": 6,
   "metadata": {},
   "outputs": [
    {
     "data": {
      "text/plain": [
       "'What is the definition of energy?, What is meant by positive in the context of energy?, How does positive energy manifest or impact a system or individual?'"
      ]
     },
     "execution_count": 6,
     "metadata": {},
     "output_type": "execute_result"
    }
   ],
   "source": [
    "dec.invoke('what is positive energy?')"
   ]
  },
  {
   "cell_type": "markdown",
   "metadata": {},
   "source": [
    "# prompts"
   ]
  },
  {
   "cell_type": "code",
   "execution_count": 8,
   "metadata": {},
   "outputs": [],
   "source": [
    "rewoo_prompt = \"\"\"\n",
    "You will be given a string of simple question or questions seperated by comma. For each question, develop a series of sequential plans that specify exactly which agents to use to retrieve the necessary evidence. Format each plan in the following way:\n",
    "\n",
    "Format:\n",
    "Plan: [Provide a concise description of the intended action, including any specific sources, search queries, or steps that must be followed. Reference any evidence needed from previous steps.]\n",
    "#E[number] = [Agent[Specific Query/Input, including any references to previous #E results if applicable]]\n",
    "\n",
    "Use the minimum number of plans necessary to provide an accurate and relevant answer. Each plan should be followed by only one #E, with clear sequential ordering for reference by subsequent steps.\n",
    "Strictly provide output only. Provide a complete plan that addresses all questions as a whole, instead of creating individual plans for each question.\n",
    "\n",
    "Agents Available:\n",
    "- RagSearcher[input]: Uses a vector database to retrieve relevant documents or research papers based on prior knowledge or pre-embedded content (use for tasks related to research papers in the form of PDFs or topics embedded in the database).\n",
    "- Searcher[input]: Conducts searches via Tavily search, Web Scraper, or Arxiv Search to retrieve both general web information and academic papers from online sources.\n",
    "- Coder[input]: A code-execution agent using Python REPL for tasks requiring code, data analysis, or visualizations.\n",
    "- ChatBot[input]: Processes or generates natural language responses based on gathered evidence or specific input.\n",
    "\n",
    "### Routing Guidance:\n",
    "- For research papers or queries based on prior knowledge, use **RagSearcher** to pull from the vector database.\n",
    "- For general online or web-based searches, use **Searcher**.\n",
    "- For code or analysis tasks, use **Coder**.\n",
    "- For summarization or extracting specific information from prior steps, use **ChatBot**.\n",
    "\n",
    "Embedded Documents in the Vector Database:\n",
    "   - \"Attention is All You Need\" (name: a.pdf)\n",
    "   - \"MAGVIT: Masked Generative Video Transformer\" (name: m.pdf)\n",
    "   - \"SAN: Inducing Metrizability of GAN with Discriminative Normalized Linear Layer\" (name: san.pdf)\n",
    "\n",
    "### Advice:\n",
    "- When creating each plan, ensure that the query given to the agent precisely reflects the questions received. This will help the agent retrieve the most relevant answer directly aligned with the original question.\n",
    "\n",
    "### Examples\n",
    "Task: Summarize recent advancements in Video Transformers for action recognition tasks.\n",
    "Plan: Search for recent publications on Arxiv that discuss Video Transformers for action recognition using the Searcher agent. #E1 = Searcher[Video Transformers action recognition]\n",
    "Plan: Retrieve related research papers on Video Transformers stored in the vector database using the RagSearcher agent. #E2 = RagSearcher[Video Transformers action recognition]\n",
    "Plan: Use the retrieved documents to generate a summary highlighting advancements in the use of Video Transformers for action recognition. #E3 = ChatBot[Summarize #E1, #E2]\n",
    "\n",
    "Task: Analyze the importance of GAN metrizability for improved performance in generative models.\n",
    "Plan: Search Arxiv for recent studies on GAN metrizability and its impact on generative model performance using the Searcher agent. #E1 = Searcher[GAN metrizability and generative models]\n",
    "Plan: Retrieve any embedded research on GAN metrizability from the vector database using the RagSearcher agent. #E2 = RagSearcher[GAN metrizability in generative models]\n",
    "Plan: Summarize findings on why metrizability is significant for GAN performance based on the retrieved papers. #E3 = ChatBot[Summarize #E1, #E2]\n",
    "\n",
    "Task: {task}\n",
    "\n",
    "\"\"\"\n",
    "\n",
    "\n",
    "rewoo_solve_prompt = \"\"\"Solve the following task or problem. To solve the problem, we have made step-by-step Plan and \\\n",
    "retrieved corresponding Evidence to each Plan. Use them with caution since long evidence might \\\n",
    "contain irrelevant information.\n",
    "\n",
    "{plan}\n",
    "\n",
    "Now solve the question or task according to provided Evidence above. Respond with the answer\n",
    "directly with no extra words.\n",
    "\n",
    "Task: {task}\n",
    "Response:\"\"\""
   ]
  },
  {
   "cell_type": "markdown",
   "metadata": {},
   "source": [
    "# utils"
   ]
  },
  {
   "cell_type": "code",
   "execution_count": null,
   "metadata": {},
   "outputs": [],
   "source": []
  },
  {
   "cell_type": "markdown",
   "metadata": {},
   "source": [
    "# state"
   ]
  },
  {
   "cell_type": "code",
   "execution_count": 9,
   "metadata": {},
   "outputs": [],
   "source": [
    "from typing import List\n",
    "from typing_extensions import TypedDict\n",
    "\n",
    "\n",
    "class ResearchTeamState(TypedDict):\n",
    "    messages: Annotated[List[BaseMessage], operator.add]\n",
    "\n",
    "    task: str\n",
    "    plan_string: str\n",
    "    steps: List\n",
    "    results: dict\n",
    "    result: str"
   ]
  },
  {
   "cell_type": "markdown",
   "metadata": {},
   "source": [
    "# procs"
   ]
  },
  {
   "cell_type": "code",
   "execution_count": null,
   "metadata": {},
   "outputs": [],
   "source": []
  },
  {
   "cell_type": "code",
   "execution_count": 10,
   "metadata": {},
   "outputs": [
    {
     "name": "stdout",
     "output_type": "stream",
     "text": [
      "what is magvit?, what is the abstract of san.pdf?, what are recent research papers on video transformers?\n"
     ]
    }
   ],
   "source": [
    "task = dec.invoke('abstract of san.pdf, what is Magvit? and what are recent research papwers on video trnaformers/').lower()\n",
    "print(task)\n",
    "\n",
    "# task = dec.invoke('abstract of san.pdf').lower()\n",
    "# print(task)"
   ]
  },
  {
   "cell_type": "code",
   "execution_count": 11,
   "metadata": {},
   "outputs": [],
   "source": [
    "import re\n",
    "\n",
    "from langchain_core.prompts import ChatPromptTemplate\n",
    "\n",
    "# Regex to match expressions of the form E#... = ...[...]\n",
    "regex_pattern = r\"Plan:\\s*(.+)\\s*(#E\\d+)\\s*=\\s*(\\w+)\\s*\\[([^\\]]+)\\]\"\n",
    "prompt_template = ChatPromptTemplate.from_messages([(\"user\", rewoo_prompt)])\n",
    "planner = prompt_template | llm\n",
    "\n",
    "\n",
    "def get_plan(state: ResearchTeamState):\n",
    "    task = state[\"task\"]\n",
    "    result = planner.invoke({\"task\": task})\n",
    "    # Find all matches in the sample text\n",
    "    matches = re.findall(regex_pattern, result.content)\n",
    "    return {\"steps\": matches, \"plan_string\": result.content}"
   ]
  },
  {
   "cell_type": "code",
   "execution_count": 13,
   "metadata": {},
   "outputs": [
    {
     "name": "stdout",
     "output_type": "stream",
     "text": [
      "Plan: Retrieve the abstract of the embedded \"SAN: Inducing Metrizability of GAN with Discriminative Normalized Linear Layer\" research paper from the vector database using the RagSearcher agent. #E1 = RagSearcher[abstract of san.pdf]\n",
      "\n",
      "Plan: Use the retrieved abstract to understand the problem of metrizability and identify potential solutions discussed in the paper. #E2 = ChatBot[Extract problem and solutions from #E1]\n",
      "\n",
      "Plan: Search for additional research on solving metrizability problems in GANs using the Searcher agent. #E3 = Searcher[machine learning models for solving metrizability problem]\n",
      "\n",
      "Plan: Analyze the retrieved information to provide a comprehensive answer on how to solve the problem of metrizability. #E4 = ChatBot[Combine #E2 and #E3 to provide an answer]\n"
     ]
    }
   ],
   "source": [
    "print(planner.invoke('abstract of san.pdf, how can we solve the problem of metriziability').content)"
   ]
  },
  {
   "cell_type": "code",
   "execution_count": 19,
   "metadata": {},
   "outputs": [],
   "source": [
    "rag_agent = create_react_agent(llm, tools=[qdrant_retriever_tool])\n",
    "\n",
    "search_agent = create_react_agent(llm, tools=[tavily_search_tool, arxiv_search_tool])\n",
    "\n",
    "code_agent = create_react_agent(llm, tools=[repl_tool])\n",
    "\n",
    "def chatbot(state: ResearchTeamState):\n",
    "    return {\"messages\": [llm.invoke(state[\"messages\"][-1].content)]}"
   ]
  },
  {
   "cell_type": "code",
   "execution_count": 14,
   "metadata": {},
   "outputs": [],
   "source": [
    "def _get_current_task(state: ResearchTeamState):\n",
    "    if \"results\" not in state or state[\"results\"] is None:\n",
    "        return 1\n",
    "    if len(state[\"results\"]) == len(state[\"steps\"]):\n",
    "        return None\n",
    "    else:\n",
    "        return len(state[\"results\"]) + 1\n",
    "\n",
    "\n",
    "def tool_execution(state: ResearchTeamState):\n",
    "    \"\"\"Worker node that executes the tools of a given plan.\"\"\"\n",
    "    _results = (state[\"results\"] or {}) if \"results\" in state else {}\n",
    "    _step = _get_current_task(state)\n",
    "    step_desc, step_name, agent, agent_input = state[\"steps\"][_step - 1]\n",
    "    for k, v in _results.items():\n",
    "        agent_input = agent_input.replace(k, v)\n",
    "\n",
    "    # Initialize `result` to a default value\n",
    "    result = None\n",
    "\n",
    "    if agent == \"RagSearcher\":\n",
    "        result = rag_agent.invoke({\"messages\": [HumanMessage(content=agent_input)]})['messages'][-1].content\n",
    "    elif agent == \"Searcher\":\n",
    "        result = search_agent.invoke({\"messages\": [HumanMessage(content=agent_input)]})['messages'][-1].content\n",
    "    elif agent == \"ChatBot\":\n",
    "        result = llm.invoke(agent_input)\n",
    "    elif agent == \"Coder\":\n",
    "        result = code_agent.invoke({\"messages\": [HumanMessage(content=agent_input)]})['messages'][-1].content\n",
    "    else:\n",
    "        raise ValueError(f\"Unknown agent type: {agent}\")\n",
    "\n",
    "    # Ensure `result` is not None before using it\n",
    "    if result is None:\n",
    "        raise ValueError(f\"Agent {agent} did not return a result for step {step_name}\")\n",
    "\n",
    "    _results[step_name] = str(result)\n",
    "    return {\"results\": _results}\n"
   ]
  },
  {
   "cell_type": "code",
   "execution_count": 15,
   "metadata": {},
   "outputs": [],
   "source": [
    "solve_prompt = \"\"\"SSolve the following task or problem. \n",
    "To solve the problem, we have made a step-by-step Plan and retrieved corresponding Evidence for each step. \n",
    "Use the Evidence with caution, as long evidence might contain irrelevant information.\n",
    "\n",
    "{plan}\n",
    "\n",
    "Now solve the question or task according to the provided Evidence above. For each subquestion, respond explicitly in a Q&A format. \n",
    "\n",
    "Task: {task}\n",
    "\n",
    "Response:\n",
    "Q1: [Subquestion 1]  \n",
    "A1: [Answer to Subquestion 1 based on relevant Evidence]  \n",
    "\n",
    "... (and so on for all subquestions)\n",
    "\"\"\"\n",
    "\n",
    "\n",
    "def solve(state: ResearchTeamState):\n",
    "    plan = \"\"\n",
    "    for _plan, step_name, agent, agent_input in state[\"steps\"]:\n",
    "        _results = (state[\"results\"] or {}) if \"results\" in state else {}\n",
    "        for k, v in _results.items():\n",
    "            agent_input = agent_input.replace(k, v)\n",
    "            step_name = step_name.replace(k, v)\n",
    "        plan += f\"Plan: {_plan}\\n{step_name} = {agent}[{agent_input}]\"\n",
    "    prompt = solve_prompt.format(plan=plan, task=state[\"task\"])\n",
    "    result = llm.invoke(prompt)\n",
    "    return {\"result\": result.content, 'messages': result}"
   ]
  },
  {
   "cell_type": "code",
   "execution_count": 16,
   "metadata": {},
   "outputs": [],
   "source": [
    "def _route(state):\n",
    "    _step = _get_current_task(state)\n",
    "    if _step is None:\n",
    "        return \"solve\"\n",
    "    else:\n",
    "        return \"agent\""
   ]
  },
  {
   "cell_type": "code",
   "execution_count": 17,
   "metadata": {},
   "outputs": [],
   "source": [
    "from langgraph.graph import END, StateGraph, START\n",
    "\n",
    "graph = StateGraph(ResearchTeamState)\n",
    "graph.add_node(\"plan\", get_plan)\n",
    "graph.add_node(\"tool\", tool_execution)\n",
    "graph.add_node(\"solve\", solve)\n",
    "graph.add_edge(\"plan\", \"tool\")\n",
    "graph.add_edge(\"solve\", END)\n",
    "graph.add_conditional_edges(\"tool\", _route)\n",
    "graph.add_edge(START, \"plan\")\n",
    "\n",
    "app = graph.compile()"
   ]
  },
  {
   "cell_type": "code",
   "execution_count": 18,
   "metadata": {},
   "outputs": [
    {
     "data": {
      "image/jpeg": "[encoded data removed]",
      "text/plain": [
       "<IPython.core.display.Image object>"
      ]
     },
     "metadata": {},
     "output_type": "display_data"
    }
   ],
   "source": [
    "from IPython.display import display, Image\n",
    "display(Image(app.get_graph().draw_mermaid_png()))\n"
   ]
  },
  {
   "cell_type": "code",
   "execution_count": 29,
   "metadata": {},
   "outputs": [
    {
     "name": "stdout",
     "output_type": "stream",
     "text": [
      "{'plan': {'plan_string': 'Plan: Utilize the Coder agent to generate Python code for visualizing attention. #E1 = Coder[Python code for visualizing attention]\\n\\nPlan: Retrieve the research paper \"Attention is All You Need\" from the vector database using the RagSearcher agent. #E2 = RagSearcher[contents of a.pdf]\\n\\nPlan: Summarize the key components of the attention mechanism as described in the retrieved paper. #E3 = ChatBot[Summarize #E2]\\n\\nPlan: Refine the Python code to visualize attention based on the summarized components from the retrieved paper. #E4 = Coder[Visualize attention using components from #E3]\\n\\nPlan: Provide the final code snippet and its explanation for visualizing attention. #E5 = ChatBot[Explain #E4]', 'steps': [('Utilize the Coder agent to generate Python code for visualizing attention. ', '#E1', 'Coder', 'Python code for visualizing attention'), ('Retrieve the research paper \"Attention is All You Need\" from the vector database using the RagSearcher agent. ', '#E2', 'RagSearcher', 'contents of a.pdf'), ('Summarize the key components of the attention mechanism as described in the retrieved paper. ', '#E3', 'ChatBot', 'Summarize #E2'), ('Refine the Python code to visualize attention based on the summarized components from the retrieved paper. ', '#E4', 'Coder', 'Visualize attention using components from #E3'), ('Provide the final code snippet and its explanation for visualizing attention. ', '#E5', 'ChatBot', 'Explain #E4')]}}\n",
      "---\n"
     ]
    },
    {
     "name": "stderr",
     "output_type": "stream",
     "text": [
      "Python REPL can execute arbitrary code. Use with caution.\n"
     ]
    },
    {
     "data": {
      "image/png": "[encoded data removed]",
      "text/plain": [
       "<Figure size 640x480 with 2 Axes>"
      ]
     },
     "metadata": {},
     "output_type": "display_data"
    },
    {
     "name": "stdout",
     "output_type": "stream",
     "text": [
      "{'tool': {'results': {'#E1': 'This code will generate a random 10x10 attention matrix and display it as a heatmap. The heatmap will have a color bar on the right side, which represents the intensity of the attention. The `cmap=\"hot\"` argument makes the heatmap use a color scheme where higher values are represented by hotter colors (i.e., colors closer to red). The `interpolation=\"nearest\"` argument makes the heatmap use the nearest-neighbor interpolation method, which can make the heatmap look more pixelated.\\n\\nYou can replace the random attention matrix with your own attention matrix to visualize it.'}}}\n",
      "---\n",
      "{'tool': {'results': {'#E1': 'This code will generate a random 10x10 attention matrix and display it as a heatmap. The heatmap will have a color bar on the right side, which represents the intensity of the attention. The `cmap=\"hot\"` argument makes the heatmap use a color scheme where higher values are represented by hotter colors (i.e., colors closer to red). The `interpolation=\"nearest\"` argument makes the heatmap use the nearest-neighbor interpolation method, which can make the heatmap look more pixelated.\\n\\nYou can replace the random attention matrix with your own attention matrix to visualize it.', '#E2': 'The function `retrieve_research_paper_texts` was called with the argument `\"contents of a.pdf\"`. The function returned a list of objects, each containing a `pdf_id` and a `page_content`. The `page_content` appears to be a snippet of text from a research paper.\\n\\nThe text snippet includes citations and references to various research papers and authors, as well as some mathematical notation and terminology related to machine learning and generative adversarial networks (GANs).\\n\\nOne of the references is to a paper titled \"Stylegan-t: Unlocking the power of gans for fast large-scale text-to-image synthesis\" by Axel Sauer, Tero Karras, Samuli Laine, Andreas Geiger, and Timo Aila. Another reference is to a paper titled \"Improved techniques for training GANs\" by Tim Salimans, Ian Goodfellow, Wojciech Zaremba, Vicki Cheung, Alec Radford, and Xi Chen.\\n\\nThe text also mentions various concepts and techniques related to GANs, including sliced optimal transport, Wasserstein distance, and functional mean divergence.\\n\\nOverall, the text appears to be a snippet from a research paper on machine learning and GANs, and the function `retrieve_research_paper_texts` was able to retrieve relevant information from the vector database containing texts of research papers and scholarly articles.'}}}\n",
      "---\n",
      "{'tool': {'results': {'#E1': 'This code will generate a random 10x10 attention matrix and display it as a heatmap. The heatmap will have a color bar on the right side, which represents the intensity of the attention. The `cmap=\"hot\"` argument makes the heatmap use a color scheme where higher values are represented by hotter colors (i.e., colors closer to red). The `interpolation=\"nearest\"` argument makes the heatmap use the nearest-neighbor interpolation method, which can make the heatmap look more pixelated.\\n\\nYou can replace the random attention matrix with your own attention matrix to visualize it.', '#E2': 'The function `retrieve_research_paper_texts` was called with the argument `\"contents of a.pdf\"`. The function returned a list of objects, each containing a `pdf_id` and a `page_content`. The `page_content` appears to be a snippet of text from a research paper.\\n\\nThe text snippet includes citations and references to various research papers and authors, as well as some mathematical notation and terminology related to machine learning and generative adversarial networks (GANs).\\n\\nOne of the references is to a paper titled \"Stylegan-t: Unlocking the power of gans for fast large-scale text-to-image synthesis\" by Axel Sauer, Tero Karras, Samuli Laine, Andreas Geiger, and Timo Aila. Another reference is to a paper titled \"Improved techniques for training GANs\" by Tim Salimans, Ian Goodfellow, Wojciech Zaremba, Vicki Cheung, Alec Radford, and Xi Chen.\\n\\nThe text also mentions various concepts and techniques related to GANs, including sliced optimal transport, Wasserstein distance, and functional mean divergence.\\n\\nOverall, the text appears to be a snippet from a research paper on machine learning and GANs, and the function `retrieve_research_paper_texts` was able to retrieve relevant information from the vector database containing texts of research papers and scholarly articles.', '#E3': 'content=\\'The function `retrieve_research_paper_texts` was called with an argument `\"contents of a.pdf\"`, which suggests that the function was given a PDF research paper to analyze. The function successfully returned a list of objects, each containing a `pdf_id` and a `page_content`, which includes snippets of text from the research paper.\\\\n\\\\nThe text snippets appear to be from a research paper on machine learning, specifically generative adversarial networks (GANs). The text mentions several key concepts and techniques, such as sliced optimal transport, Wasserstein distance, and functional mean divergence.\\\\n\\\\nAdditionally, the text includes references to other research papers, including \"Stylegan-t: Unlocking the power of gans for fast large-scale text-to-image synthesis\" and \"Improved techniques for training GANs\". These references suggest that the paper is engaging with existing research in the field of GANs.\\\\n\\\\nOverall, the function `retrieve_research_paper_texts` successfully extracted relevant information from the research paper, including text snippets, citations, and references. This information could be useful for further analysis or research on machine learning and GANs.\\' additional_kwargs={} response_metadata={\\'token_usage\\': {\\'completion_tokens\\': 225, \\'prompt_tokens\\': 315, \\'total_tokens\\': 540, \\'completion_time\\': 0.841443168, \\'prompt_time\\': 0.040782188, \\'queue_time\\': 0.005647382000000006, \\'total_time\\': 0.882225356}, \\'model_name\\': \\'llama-3.2-90b-vision-preview\\', \\'system_fingerprint\\': \\'fp_9c2a937c92\\', \\'finish_reason\\': \\'stop\\', \\'logprobs\\': None} id=\\'run-852cd8da-176b-48ac-abf0-60913a866abf-0\\' usage_metadata={\\'input_tokens\\': 315, \\'output_tokens\\': 225, \\'total_tokens\\': 540}'}}}\n",
      "---\n",
      "{'tool': {'results': {'#E1': 'This code will generate a random 10x10 attention matrix and display it as a heatmap. The heatmap will have a color bar on the right side, which represents the intensity of the attention. The `cmap=\"hot\"` argument makes the heatmap use a color scheme where higher values are represented by hotter colors (i.e., colors closer to red). The `interpolation=\"nearest\"` argument makes the heatmap use the nearest-neighbor interpolation method, which can make the heatmap look more pixelated.\\n\\nYou can replace the random attention matrix with your own attention matrix to visualize it.', '#E2': 'The function `retrieve_research_paper_texts` was called with the argument `\"contents of a.pdf\"`. The function returned a list of objects, each containing a `pdf_id` and a `page_content`. The `page_content` appears to be a snippet of text from a research paper.\\n\\nThe text snippet includes citations and references to various research papers and authors, as well as some mathematical notation and terminology related to machine learning and generative adversarial networks (GANs).\\n\\nOne of the references is to a paper titled \"Stylegan-t: Unlocking the power of gans for fast large-scale text-to-image synthesis\" by Axel Sauer, Tero Karras, Samuli Laine, Andreas Geiger, and Timo Aila. Another reference is to a paper titled \"Improved techniques for training GANs\" by Tim Salimans, Ian Goodfellow, Wojciech Zaremba, Vicki Cheung, Alec Radford, and Xi Chen.\\n\\nThe text also mentions various concepts and techniques related to GANs, including sliced optimal transport, Wasserstein distance, and functional mean divergence.\\n\\nOverall, the text appears to be a snippet from a research paper on machine learning and GANs, and the function `retrieve_research_paper_texts` was able to retrieve relevant information from the vector database containing texts of research papers and scholarly articles.', '#E3': 'content=\\'The function `retrieve_research_paper_texts` was called with an argument `\"contents of a.pdf\"`, which suggests that the function was given a PDF research paper to analyze. The function successfully returned a list of objects, each containing a `pdf_id` and a `page_content`, which includes snippets of text from the research paper.\\\\n\\\\nThe text snippets appear to be from a research paper on machine learning, specifically generative adversarial networks (GANs). The text mentions several key concepts and techniques, such as sliced optimal transport, Wasserstein distance, and functional mean divergence.\\\\n\\\\nAdditionally, the text includes references to other research papers, including \"Stylegan-t: Unlocking the power of gans for fast large-scale text-to-image synthesis\" and \"Improved techniques for training GANs\". These references suggest that the paper is engaging with existing research in the field of GANs.\\\\n\\\\nOverall, the function `retrieve_research_paper_texts` successfully extracted relevant information from the research paper, including text snippets, citations, and references. This information could be useful for further analysis or research on machine learning and GANs.\\' additional_kwargs={} response_metadata={\\'token_usage\\': {\\'completion_tokens\\': 225, \\'prompt_tokens\\': 315, \\'total_tokens\\': 540, \\'completion_time\\': 0.841443168, \\'prompt_time\\': 0.040782188, \\'queue_time\\': 0.005647382000000006, \\'total_time\\': 0.882225356}, \\'model_name\\': \\'llama-3.2-90b-vision-preview\\', \\'system_fingerprint\\': \\'fp_9c2a937c92\\', \\'finish_reason\\': \\'stop\\', \\'logprobs\\': None} id=\\'run-852cd8da-176b-48ac-abf0-60913a866abf-0\\' usage_metadata={\\'input_tokens\\': 315, \\'output_tokens\\': 225, \\'total_tokens\\': 540}', '#E4': '<function=python_repl>\"code = \\\\\"import matplotlib.pyplot as plt\\\\nimport networkx as nx\\\\nimport numpy as np\\\\n\\\\n# Define the nodes\\\\nnodes = [\\'retrieve_research_paper_texts\\', \\'machine learning\\', \\'generative adversarial networks (GANs)\\', \\'sliced optimal transport\\', \\'Wasserstein distance\\', \\'functional mean divergence\\', \\'Stylegan-t: Unlocking the power of gans for fast large-scale text-to-image synthesis\\', \\'Improved techniques for training GANs\\']\\\\n\\\\n# Define the edges\\\\nedges = [(\\'retrieve_research_paper_texts\\', \\'machine learning\\'), (\\'retrieve_research_paper_texts\\', \\'generative adversarial networks (GANs)\\'), (\\'machine learning\\', \\'generative adversarial networks (GANs)\\'), (\\'generative adversarial networks (GANs)\\', \\'sliced optimal transport\\'), (\\'generative adversarial networks (GANs)\\', \\'Wasserstein distance\\'), (\\'generative adversarial networks (GANs)\\', \\'functional mean divergence\\'), (\\'generative adversarial networks (GANs)\\', \\'Stylegan-t: Unlocking the power of gans for fast large-scale text-to-image synthesis\\'), (\\'generative adversarial networks (GANs)\\', \\'Improved techniques for training GANs\\')]\\\\n\\\\n# Create the graph\\\\nG = nx.Graph()\\\\nG.add_nodes_from(nodes)\\\\nG.add_edges_from(edges)\\\\n\\\\n# Position the nodes\\\\npos = nx.spring_layout(G)\\\\n\\\\n# Draw the nodes and edges\\\\nnx.draw_networkx_nodes(G, pos, node_size=7000, node_color=\\'lightblue\\')\\\\nnx.draw_networkx_edges(G, pos, width=2, edge_color=\\'gray\\')\\\\nnx.draw_networkx_labels(G, pos, font_size=10)\\\\n\\\\n# Show the plot\\\\nplt.show()\\\\\"\"'}}}\n",
      "---\n",
      "{'tool': {'results': {'#E1': 'This code will generate a random 10x10 attention matrix and display it as a heatmap. The heatmap will have a color bar on the right side, which represents the intensity of the attention. The `cmap=\"hot\"` argument makes the heatmap use a color scheme where higher values are represented by hotter colors (i.e., colors closer to red). The `interpolation=\"nearest\"` argument makes the heatmap use the nearest-neighbor interpolation method, which can make the heatmap look more pixelated.\\n\\nYou can replace the random attention matrix with your own attention matrix to visualize it.', '#E2': 'The function `retrieve_research_paper_texts` was called with the argument `\"contents of a.pdf\"`. The function returned a list of objects, each containing a `pdf_id` and a `page_content`. The `page_content` appears to be a snippet of text from a research paper.\\n\\nThe text snippet includes citations and references to various research papers and authors, as well as some mathematical notation and terminology related to machine learning and generative adversarial networks (GANs).\\n\\nOne of the references is to a paper titled \"Stylegan-t: Unlocking the power of gans for fast large-scale text-to-image synthesis\" by Axel Sauer, Tero Karras, Samuli Laine, Andreas Geiger, and Timo Aila. Another reference is to a paper titled \"Improved techniques for training GANs\" by Tim Salimans, Ian Goodfellow, Wojciech Zaremba, Vicki Cheung, Alec Radford, and Xi Chen.\\n\\nThe text also mentions various concepts and techniques related to GANs, including sliced optimal transport, Wasserstein distance, and functional mean divergence.\\n\\nOverall, the text appears to be a snippet from a research paper on machine learning and GANs, and the function `retrieve_research_paper_texts` was able to retrieve relevant information from the vector database containing texts of research papers and scholarly articles.', '#E3': 'content=\\'The function `retrieve_research_paper_texts` was called with an argument `\"contents of a.pdf\"`, which suggests that the function was given a PDF research paper to analyze. The function successfully returned a list of objects, each containing a `pdf_id` and a `page_content`, which includes snippets of text from the research paper.\\\\n\\\\nThe text snippets appear to be from a research paper on machine learning, specifically generative adversarial networks (GANs). The text mentions several key concepts and techniques, such as sliced optimal transport, Wasserstein distance, and functional mean divergence.\\\\n\\\\nAdditionally, the text includes references to other research papers, including \"Stylegan-t: Unlocking the power of gans for fast large-scale text-to-image synthesis\" and \"Improved techniques for training GANs\". These references suggest that the paper is engaging with existing research in the field of GANs.\\\\n\\\\nOverall, the function `retrieve_research_paper_texts` successfully extracted relevant information from the research paper, including text snippets, citations, and references. This information could be useful for further analysis or research on machine learning and GANs.\\' additional_kwargs={} response_metadata={\\'token_usage\\': {\\'completion_tokens\\': 225, \\'prompt_tokens\\': 315, \\'total_tokens\\': 540, \\'completion_time\\': 0.841443168, \\'prompt_time\\': 0.040782188, \\'queue_time\\': 0.005647382000000006, \\'total_time\\': 0.882225356}, \\'model_name\\': \\'llama-3.2-90b-vision-preview\\', \\'system_fingerprint\\': \\'fp_9c2a937c92\\', \\'finish_reason\\': \\'stop\\', \\'logprobs\\': None} id=\\'run-852cd8da-176b-48ac-abf0-60913a866abf-0\\' usage_metadata={\\'input_tokens\\': 315, \\'output_tokens\\': 225, \\'total_tokens\\': 540}', '#E4': '<function=python_repl>\"code = \\\\\"import matplotlib.pyplot as plt\\\\nimport networkx as nx\\\\nimport numpy as np\\\\n\\\\n# Define the nodes\\\\nnodes = [\\'retrieve_research_paper_texts\\', \\'machine learning\\', \\'generative adversarial networks (GANs)\\', \\'sliced optimal transport\\', \\'Wasserstein distance\\', \\'functional mean divergence\\', \\'Stylegan-t: Unlocking the power of gans for fast large-scale text-to-image synthesis\\', \\'Improved techniques for training GANs\\']\\\\n\\\\n# Define the edges\\\\nedges = [(\\'retrieve_research_paper_texts\\', \\'machine learning\\'), (\\'retrieve_research_paper_texts\\', \\'generative adversarial networks (GANs)\\'), (\\'machine learning\\', \\'generative adversarial networks (GANs)\\'), (\\'generative adversarial networks (GANs)\\', \\'sliced optimal transport\\'), (\\'generative adversarial networks (GANs)\\', \\'Wasserstein distance\\'), (\\'generative adversarial networks (GANs)\\', \\'functional mean divergence\\'), (\\'generative adversarial networks (GANs)\\', \\'Stylegan-t: Unlocking the power of gans for fast large-scale text-to-image synthesis\\'), (\\'generative adversarial networks (GANs)\\', \\'Improved techniques for training GANs\\')]\\\\n\\\\n# Create the graph\\\\nG = nx.Graph()\\\\nG.add_nodes_from(nodes)\\\\nG.add_edges_from(edges)\\\\n\\\\n# Position the nodes\\\\npos = nx.spring_layout(G)\\\\n\\\\n# Draw the nodes and edges\\\\nnx.draw_networkx_nodes(G, pos, node_size=7000, node_color=\\'lightblue\\')\\\\nnx.draw_networkx_edges(G, pos, width=2, edge_color=\\'gray\\')\\\\nnx.draw_networkx_labels(G, pos, font_size=10)\\\\n\\\\n# Show the plot\\\\nplt.show()\\\\\"\"', '#E5': 'content=\"**NetworkX and Matplotlib Code Explanation**\\\\n\\\\nThis Python code is used to create a simple graph visualization using the NetworkX library, with nodes and edges, and display it using Matplotlib. Here\\'s a breakdown of what each section does:\\\\n\\\\n### Importing Libraries\\\\n\\\\n```python\\\\nimport matplotlib.pyplot as plt\\\\nimport networkx as nx\\\\nimport numpy as np\\\\n```\\\\n\\\\nThis code imports the necessary libraries:\\\\n\\\\n* `matplotlib.pyplot` for creating static, animated, and interactive visualizations.\\\\n* `networkx` for creating, manipulating, and studying the structure, dynamics, and functions of complex networks.\\\\n* `numpy` is not actually used in this script, but it\\'s often imported when working with numerical computations.\\\\n\\\\n### Defining the Nodes and Edges\\\\n\\\\n```python\\\\n# Define the nodes\\\\nnodes = [\\'retrieve_research_paper_texts\\', \\'machine learning\\', \\'generative adversarial networks (GANs)\\', \\'sliced optimal transport\\', \\'Wasserstein distance\\', \\'functional mean divergence\\', \\'Stylegan-t: Unlocking the power of gans for fast large-scale text-to-image synthesis\\', \\'Improved techniques for training GANs\\']\\\\n\\\\n# Define the edges\\\\nedges = [(\\'retrieve_research_paper_texts\\', \\'machine learning\\'), (\\'retrieve_research_paper_texts\\', \\'generative adversarial networks (GANs)\\'), (\\'machine learning\\', \\'generative adversarial networks (GANs)\\'), (\\'generative adversarial networks (GANs)\\', \\'sliced optimal transport\\'), (\\'generative adversarial networks (GANs)\\', \\'Wasserstein distance\\'), (\\'generative adversarial networks (GANs)\\', \\'functional mean divergence\\'), (\\'generative adversarial networks (GANs)\\', \\'Stylegan-t: Unlocking the power of gans for fast large-scale text-to-image synthesis\\'), (\\'generative adversarial networks (GANs)\\', \\'Improved techniques for training GANs\\')]\\\\n```\\\\n\\\\nThis code defines the nodes and edges of the graph:\\\\n\\\\n* `nodes` is a list of strings representing the nodes in the graph.\\\\n* `edges` is a list of tuples, where each tuple represents a directed edge between two nodes.\\\\n\\\\n### Creating the Graph\\\\n\\\\n```python\\\\n# Create the graph\\\\nG = nx.Graph()\\\\nG.add_nodes_from(nodes)\\\\nG.add_edges_from(edges)\\\\n```\\\\n\\\\nThis code creates an empty graph using NetworkX and adds the nodes and edges to it:\\\\n\\\\n* `nx.Graph()` creates an empty undirected graph.\\\\n* `G.add_nodes_from(nodes)` adds the nodes to the graph.\\\\n* `G.add_edges_from(edges)` adds the edges to the graph.\\\\n\\\\n### Positioning the Nodes\\\\n\\\\n```python\\\\n# Position the nodes\\\\npos = nx.spring_layout(G)\\\\n```\\\\n\\\\nThis code positions the nodes in the graph using the Fruchterman-Reingold force-directed algorithm:\\\\n\\\\n* `nx.spring_layout(G)` calculates the positions of the nodes in the graph using the Fruchterman-Reingold algorithm.\\\\n\\\\n### Drawing the Nodes and Edges\\\\n\\\\n```python\\\\n# Draw the nodes and edges\\\\nnx.draw_networkx_nodes(G, pos, node_size=7000, node_color=\\'lightblue\\')\\\\nnx.draw_networkx_edges(G, pos, width=2, edge_color=\\'gray\\')\\\\nnx.draw_networkx_labels(G, pos, font_size=10)\\\\n```\\\\n\\\\nThis code draws the nodes and edges of the graph:\\\\n\\\\n* `nx.draw_networkx_nodes(G, pos, node_size=7000, node_color=\\'lightblue\\')` draws the nodes of the graph with a size of 7000 and a light blue color.\\\\n* `nx.draw_networkx_edges(G, pos, width=2, edge_color=\\'gray\\')` draws the edges of the graph with a width of 2 and a gray color.\\\\n* `nx.draw_networkx_labels(G, pos, font_size=10)` draws the labels of the nodes with a font size of 10.\\\\n\\\\n### Showing the Plot\\\\n\\\\n```python\\\\n# Show the plot\\\\nplt.show()\\\\n```\\\\n\\\\nThis code displays the graph visualization using Matplotlib:\\\\n\\\\n* `plt.show()` displays the graph visualization.\\\\n\\\\nWhen you run this code, it will display a graph visualization with nodes and edges, using the positions calculated by the Fruchterman-Reingold algorithm.\" additional_kwargs={} response_metadata={\\'token_usage\\': {\\'completion_tokens\\': 856, \\'prompt_tokens\\': 407, \\'total_tokens\\': 1263, \\'completion_time\\': 3.27120213, \\'prompt_time\\': 0.050863343, \\'queue_time\\': 0.005796016000000001, \\'total_time\\': 3.322065473}, \\'model_name\\': \\'llama-3.2-90b-vision-preview\\', \\'system_fingerprint\\': \\'fp_9c2a937c92\\', \\'finish_reason\\': \\'stop\\', \\'logprobs\\': None} id=\\'run-6da94af0-cacc-457a-89bd-3b3b68b898a5-0\\' usage_metadata={\\'input_tokens\\': 407, \\'output_tokens\\': 856, \\'total_tokens\\': 1263}'}}}\n",
      "---\n",
      "{'solve': {'result': '```python\\nimport matplotlib.pyplot as plt\\nimport numpy as np\\n\\n# Generate a random 10x10 attention matrix\\nattention_matrix = np.random.rand(10, 10)\\n\\n# Create a heatmap of the attention matrix\\nplt.imshow(attention_matrix, cmap=\"hot\", interpolation=\"nearest\")\\n\\n# Add a color bar to the right side of the heatmap\\nplt.colorbar()\\n\\n# Show the plot\\nplt.show()\\n```'}}\n",
      "---\n"
     ]
    }
   ],
   "source": [
    "for s in app.stream({\"task\": 'can you write a dummy code to visualize attention'}):\n",
    "    print(s)\n",
    "    print(\"---\")"
   ]
  },
  {
   "cell_type": "code",
   "execution_count": null,
   "metadata": {},
   "outputs": [],
   "source": []
  },
  {
   "cell_type": "code",
   "execution_count": null,
   "metadata": {},
   "outputs": [],
   "source": []
  },
  {
   "cell_type": "code",
   "execution_count": null,
   "metadata": {},
   "outputs": [],
   "source": []
  },
  {
   "cell_type": "code",
   "execution_count": null,
   "metadata": {},
   "outputs": [],
   "source": []
  },
  {
   "cell_type": "code",
   "execution_count": null,
   "metadata": {},
   "outputs": [],
   "source": []
  },
  {
   "cell_type": "code",
   "execution_count": null,
   "metadata": {},
   "outputs": [],
   "source": []
  },
  {
   "cell_type": "code",
   "execution_count": null,
   "metadata": {},
   "outputs": [
    {
     "data": {
      "text/plain": [
       "AIMessage(content='Attention, in the context of psychology and neuroscience, refers to the cognitive process of selectively concentrating on one aspect of the environment while ignoring other stimuli. It is a crucial mechanism that enables us to focus on relevant information, filter out distractions, and efficiently process sensory inputs.\\n\\nIn the context of the provided research paper, attention is used in a different sense. The paper discusses the Transformer model, a type of neural network architecture that relies entirely on attention mechanisms to draw global dependencies between input and output sequences. The model uses multi-head attention, which allows it to jointly attend to information from different representation subspaces at different positions.\\n\\nThe paper highlights the benefits of using attention mechanisms in sequence-to-sequence models, such as improved parallelization and reduced computational cost. It also discusses the applications of attention in the Transformer model, including encoder-decoder attention, self-attention, and position-wise feed-forward networks.\\n\\nOverall, attention is a critical component of the Transformer model, enabling it to efficiently process and generate sequences of data.', additional_kwargs={}, response_metadata={'token_usage': {'completion_tokens': 202, 'prompt_tokens': 2236, 'total_tokens': 2438, 'completion_time': 0.992718863, 'prompt_time': 0.3354443, 'queue_time': 0.007964397000000012, 'total_time': 1.328163163}, 'model_name': 'llama-3.2-90b-vision-preview', 'system_fingerprint': 'fp_07b97e5459', 'finish_reason': 'stop', 'logprobs': None}, id='run-3cda5b4e-6186-4a0d-b831-5d0b5e7e156d-0', usage_metadata={'input_tokens': 2236, 'output_tokens': 202, 'total_tokens': 2438})"
      ]
     },
     "execution_count": 42,
     "metadata": {},
     "output_type": "execute_result"
    }
   ],
   "source": [
    "# for s in rag_agent.stream({\"messages\": [HumanMessage(content=\"What's attention\")]}):\n",
    "#     print(s)\n",
    "\n",
    "rag_agent.invoke({\"messages\": [HumanMessage(content=\"What's attention\")]})['messages'][-1]"
   ]
  },
  {
   "cell_type": "code",
   "execution_count": null,
   "metadata": {},
   "outputs": [
    {
     "data": {
      "text/plain": [
       "AIMessage(content='The difference between attention and self-attention is that attention is a mechanism that allows a model to focus on specific parts of the input data, while self-attention is a specific type of attention mechanism that allows a model to attend to different parts of the same input sequence.\\n\\nRecent research papers that apply transformer architectures, specifically video transformers, to video-related tasks include:\\n\\n* \"Reinforcement Learning-based Mixture of Vision Transformers for Video Violence Recognition\" by Hamid Mohammadi et al.\\n* \"Video Mamba Suite: State Space Model as a Versatile Alternative for Video Understanding\" by Guo Chen et al.\\n* \"Towards Training Stronger Video Vision Transformers for EPIC-KITCHENS-100 Action Recognition\" by Ziyuan Huang et al.\\n* \"An End-to-End Trainable Video Panoptic Segmentation Method using Transformers\" by Jeongwon Ryu et al.\\n* \"Transformer-based Image and Video Inpainting: Current Challenges and Future Directions\" by Omar Elharrouss et al.\\n\\nThese papers demonstrate the effectiveness of transformer architectures in various video-related tasks, such as video violence recognition, action recognition, panoptic segmentation, and image and video inpainting.', additional_kwargs={}, response_metadata={'token_usage': {'completion_tokens': 239, 'prompt_tokens': 3946, 'total_tokens': 4185, 'completion_time': 1.169977748, 'prompt_time': 0.575248224, 'queue_time': 0.008461520999999972, 'total_time': 1.745225972}, 'model_name': 'llama-3.2-90b-vision-preview', 'system_fingerprint': 'fp_07b97e5459', 'finish_reason': 'stop', 'logprobs': None}, id='run-6eb310ad-e2ae-4494-bda0-b57eaf5d5469-0', usage_metadata={'input_tokens': 3946, 'output_tokens': 239, 'total_tokens': 4185})"
      ]
     },
     "execution_count": 45,
     "metadata": {},
     "output_type": "execute_result"
    }
   ],
   "source": [
    "# for s in search_agent.stream({\"messages\": [HumanMessage(content='what are some recent research papers that apply transformer architectures, specifically video transformers, to video-related tasks?')]}):\n",
    "#     print(s)\n",
    "\n",
    "search_agent.invoke({\"messages\": [HumanMessage(content='whats te difference between attentiona nd self attention and what are some recent research papers that apply transformer architectures, specifically video transformers, to video-related tasks?')]})['messages'][-1]"
   ]
  },
  {
   "cell_type": "code",
   "execution_count": null,
   "metadata": {},
   "outputs": [
    {
     "data": {
      "text/plain": [
       "[{'url': 'https://home.cern/news/news/physics/still-making-tracks-eighty-years-positron',\n",
       "  'content': \"A positron is the antimatter counterpart of an electron, with opposite charge and identical mass. Learn how Carl Anderson discovered it in 1933, how it fits Dirac's prediction, and how it is used in particle physics and medicine.\"},\n",
       " {'url': 'https://byjus.com/chemistry/positron/',\n",
       "  'content': 'A positron is a positively charged particle that is the antiparticle of an electron. Learn how it is produced, how it interacts with matter and how it is used in antihydrogen research.'},\n",
       " {'url': 'https://www.allthescience.org/what-is-a-positron.htm',\n",
       "  'content': 'A positron is the antimatter equivalent of an electron, with a positive charge and a low mass. Learn about its discovery, properties, applications, and challenges in this article.'},\n",
       " {'url': 'https://www.vedantu.com/chemistry/positron',\n",
       "  'content': 'A positron or antielectron is the antimatter counterpart to an electron. A positron has the equal or same mass as an electron and a spin of 1/2, but it has an electrical charge of +1. When a positron collides with electron annihilation, it results in the production of two or more gamma-ray photons. Positron is also known as the positive'},\n",
       " {'url': 'https://pediaa.com/difference-between-proton-and-positron/',\n",
       "  'content': 'What is a Positron. Positron is a subatomic particle that is considered as an antielectron. It is the antiparticle of the electron. Therefore, the positron has a +1 electrical charge. The mass of positron is exactly equivalent to the mass of an electron; 9.1094 x 10-28 g. The atomic mass of positron is 0.00054858 amu.'}]"
      ]
     },
     "execution_count": 27,
     "metadata": {},
     "output_type": "execute_result"
    }
   ],
   "source": [
    "tavily_search_tool.invoke('what is positron')"
   ]
  },
  {
   "cell_type": "code",
   "execution_count": null,
   "metadata": {},
   "outputs": [],
   "source": [
    "llm_with_tools = llm.bind_tools(tools=[qdrant_retriever_tool, web_scraper_tool, tavily_search_tool, arxiv_search_tool])"
   ]
  },
  {
   "cell_type": "code",
   "execution_count": null,
   "metadata": {},
   "outputs": [
    {
     "data": {
      "text/plain": [
       "AIMessage(content='', additional_kwargs={'tool_calls': [{'id': 'call_7fqh', 'function': {'arguments': '{\"query\": \"self-attention\"}', 'name': 'tavily_search_results_json'}, 'type': 'function'}]}, response_metadata={'token_usage': {'completion_tokens': 20, 'prompt_tokens': 599, 'total_tokens': 619, 'completion_time': 0.097139516, 'prompt_time': 0.101830235, 'queue_time': 0.006444657999999992, 'total_time': 0.198969751}, 'model_name': 'llama-3.2-90b-vision-preview', 'system_fingerprint': 'fp_07b97e5459', 'finish_reason': 'tool_calls', 'logprobs': None}, id='run-579f5bef-263e-42da-91b3-333b680ea46b-0', tool_calls=[{'name': 'tavily_search_results_json', 'args': {'query': 'self-attention'}, 'id': 'call_7fqh', 'type': 'tool_call'}], usage_metadata={'input_tokens': 599, 'output_tokens': 20, 'total_tokens': 619})"
      ]
     },
     "execution_count": 10,
     "metadata": {},
     "output_type": "execute_result"
    }
   ],
   "source": [
    "llm_with_tools.invoke('what is self attention')"
   ]
  },
  {
   "cell_type": "code",
   "execution_count": null,
   "metadata": {},
   "outputs": [
    {
     "data": {
      "text/plain": [
       "[Document(metadata={'pdf_id': 'a.pdf', '_id': '1313109e-8fe8-45cc-b249-a79821e51c1f', '_collection_name': 'aireas-cloud'}, page_content='of a single sequence in order to compute a representation of the sequence. Self-attention has been\\nused successfully in a variety of tasks including reading comprehension, abstractive summarization,\\ntextual entailment and learning task-independent sentence representations [4, 27, 28, 22].\\nEnd-to-end memory networks are based on a recurrent attention mechanism instead of sequence-\\naligned recurrence and have been shown to perform well on simple-language question answering and\\nlanguage modeling tasks [34].\\nTo the best of our knowledge, however, the Transformer is the first transduction model relying\\nentirely on self-attention to compute representations of its input and output without using sequence-\\naligned RNNs or convolution. In the following sections, we will describe the Transformer, motivate\\nself-attention and discuss its advantages over models such as [17, 18] and [9].\\n3\\nModel Architecture\\nMost competitive neural sequence transduction models have an encoder-decoder structure [5, 2, 35].\\nHere, the encoder maps an input sequence of symbol representations (x1, ..., xn) to a sequence\\nof continuous representations z = (z1, ..., zn). Given z, the decoder then generates an output\\nsequence (y1, ..., ym) of symbols one element at a time. At each step the model is auto-regressive\\n[10], consuming the previously generated symbols as additional input when generating the next.\\n2\\nFigure 1: The Transformer - model architecture.\\nThe Transformer follows this overall architecture using stacked self-attention and point-wise, fully\\nconnected layers for both the encoder and decoder, shown in the left and right halves of Figure 1,\\nrespectively.\\n3.1\\nEncoder and Decoder Stacks\\nEncoder:\\nThe encoder is composed of a stack of N = 6 identical layers. Each layer has two\\nsub-layers. The first is a multi-head self-attention mechanism, and the second is a simple, position-\\nwise fully connected feed-forward network. We employ a residual connection [11] around each of\\nthe two sub-layers, followed by layer normalization [1]. That is, the output of each sub-layer is'),\n",
       " Document(metadata={'pdf_id': 'a.pdf', '_id': 'b2812931-4b32-407c-a5d0-bdd2860cfbd5', '_collection_name': 'aireas-cloud'}, page_content='computation [32], while also improving model performance in case of the latter. The fundamental\\nconstraint of sequential computation, however, remains.\\nAttention mechanisms have become an integral part of compelling sequence modeling and transduc-\\ntion models in various tasks, allowing modeling of dependencies without regard to their distance in\\nthe input or output sequences [2, 19]. In all but a few cases [27], however, such attention mechanisms\\nare used in conjunction with a recurrent network.\\nIn this work we propose the Transformer, a model architecture eschewing recurrence and instead\\nrelying entirely on an attention mechanism to draw global dependencies between input and output.\\nThe Transformer allows for significantly more parallelization and can reach a new state of the art in\\ntranslation quality after being trained for as little as twelve hours on eight P100 GPUs.\\n2\\nBackground\\nThe goal of reducing sequential computation also forms the foundation of the Extended Neural GPU\\n[16], ByteNet [18] and ConvS2S [9], all of which use convolutional neural networks as basic building\\nblock, computing hidden representations in parallel for all input and output positions. In these models,\\nthe number of operations required to relate signals from two arbitrary input or output positions grows\\nin the distance between positions, linearly for ConvS2S and logarithmically for ByteNet. This makes\\nit more difficult to learn dependencies between distant positions [12]. In the Transformer this is\\nreduced to a constant number of operations, albeit at the cost of reduced effective resolution due\\nto averaging attention-weighted positions, an effect we counteract with Multi-Head Attention as\\ndescribed in section 3.2.\\nSelf-attention, sometimes called intra-attention is an attention mechanism relating different positions\\nof a single sequence in order to compute a representation of the sequence. Self-attention has been\\nused successfully in a variety of tasks including reading comprehension, abstractive summarization,'),\n",
       " Document(metadata={'pdf_id': 'a.pdf', '_id': 'b0536aa8-237f-46b9-b0d4-18f76cdc8baa', '_collection_name': 'aireas-cloud'}, page_content='i=1 qiki, has mean 0 and variance dk.\\n4\\noutput values. These are concatenated and once again projected, resulting in the final values, as\\ndepicted in Figure 2.\\nMulti-head attention allows the model to jointly attend to information from different representation\\nsubspaces at different positions. With a single attention head, averaging inhibits this.\\nMultiHead(Q, K, V ) = Concat(head1, ..., headh)W O\\nwhere headi = Attention(QW Q\\ni , KW K\\ni , V W V\\ni )\\nWhere the projections are parameter matrices W Q\\ni\\n∈Rdmodel×dk, W K\\ni\\n∈Rdmodel×dk, W V\\ni\\n∈Rdmodel×dv\\nand W O ∈Rhdv×dmodel.\\nIn this work we employ h = 8 parallel attention layers, or heads. For each of these we use\\ndk = dv = dmodel/h = 64. Due to the reduced dimension of each head, the total computational cost\\nis similar to that of single-head attention with full dimensionality.\\n3.2.3\\nApplications of Attention in our Model\\nThe Transformer uses multi-head attention in three different ways:\\n• In \"encoder-decoder attention\" layers, the queries come from the previous decoder layer,\\nand the memory keys and values come from the output of the encoder. This allows every\\nposition in the decoder to attend over all positions in the input sequence. This mimics the\\ntypical encoder-decoder attention mechanisms in sequence-to-sequence models such as\\n[38, 2, 9].\\n• The encoder contains self-attention layers. In a self-attention layer all of the keys, values\\nand queries come from the same place, in this case, the output of the previous layer in the\\nencoder. Each position in the encoder can attend to all positions in the previous layer of the\\nencoder.\\n• Similarly, self-attention layers in the decoder allow each position in the decoder to attend to\\nall positions in the decoder up to and including that position. We need to prevent leftward\\ninformation flow in the decoder to preserve the auto-regressive property. We implement this\\ninside of scaled dot-product attention by masking out (setting to −∞) all values in the input\\nof the softmax which correspond to illegal connections. See Figure 2.\\n3.3\\nPosition-wise Feed-Forward Networks'),\n",
       " Document(metadata={'pdf_id': 'a.pdf', '_id': '92ba5fc6-3f68-4a5c-b0cd-7fe72a0da157', '_collection_name': 'aireas-cloud'}, page_content='Since our model contains no recurrence and no convolution, in order for the model to make use of the\\norder of the sequence, we must inject some information about the relative or absolute position of the\\ntokens in the sequence. To this end, we add \"positional encodings\" to the input embeddings at the\\nbottoms of the encoder and decoder stacks. The positional encodings have the same dimension dmodel\\nas the embeddings, so that the two can be summed. There are many choices of positional encodings,\\nlearned and fixed [9].\\nIn this work, we use sine and cosine functions of different frequencies:\\nPE(pos,2i) = sin(pos/100002i/dmodel)\\nPE(pos,2i+1) = cos(pos/100002i/dmodel)\\nwhere pos is the position and i is the dimension. That is, each dimension of the positional encoding\\ncorresponds to a sinusoid. The wavelengths form a geometric progression from 2π to 10000 · 2π. We\\nchose this function because we hypothesized it would allow the model to easily learn to attend by\\nrelative positions, since for any fixed offset k, PEpos+k can be represented as a linear function of\\nPEpos.\\nWe also experimented with using learned positional embeddings [9] instead, and found that the two\\nversions produced nearly identical results (see Table 3 row (E)). We chose the sinusoidal version\\nbecause it may allow the model to extrapolate to sequence lengths longer than the ones encountered\\nduring training.\\n4\\nWhy Self-Attention\\nIn this section we compare various aspects of self-attention layers to the recurrent and convolu-\\ntional layers commonly used for mapping one variable-length sequence of symbol representations\\n(x1, ..., xn) to another sequence of equal length (z1, ..., zn), with xi, zi ∈Rd, such as a hidden\\nlayer in a typical sequence transduction encoder or decoder. Motivating our use of self-attention we\\nconsider three desiderata.\\nOne is the total computational complexity per layer. Another is the amount of computation that can\\nbe parallelized, as measured by the minimum number of sequential operations required.')]"
      ]
     },
     "execution_count": 25,
     "metadata": {},
     "output_type": "execute_result"
    }
   ],
   "source": [
    "qdrant_retriever.invoke('self attention')"
   ]
  },
  {
   "cell_type": "code",
   "execution_count": null,
   "metadata": {},
   "outputs": [],
   "source": []
  }
 ],
 "metadata": {
  "kernelspec": {
   "display_name": "myenv",
   "language": "python",
   "name": "python3"
  },
  "language_info": {
   "codemirror_mode": {
    "name": "ipython",
    "version": 3
   },
   "file_extension": ".py",
   "mimetype": "text/x-python",
   "name": "python",
   "nbconvert_exporter": "python",
   "pygments_lexer": "ipython3",
   "version": "3.12.3"
  }
 },
 "nbformat": 4,
 "nbformat_minor": 2
}
