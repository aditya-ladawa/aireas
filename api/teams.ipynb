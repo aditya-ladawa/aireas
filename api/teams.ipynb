{
 "cells": [
  {
   "cell_type": "code",
   "execution_count": 1,
   "metadata": {},
   "outputs": [
    {
     "data": {
      "text/plain": [
       "True"
      ]
     },
     "execution_count": 1,
     "metadata": {},
     "output_type": "execute_result"
    }
   ],
   "source": [
    "from dotenv import load_dotenv\n",
    "from pprint import pprint\n",
    "\n",
    "load_dotenv()"
   ]
  },
  {
   "cell_type": "markdown",
   "metadata": {},
   "source": [
    "# Helper utilities\n",
    "\n",
    "1. Create a worker agent.\n",
    "2. Create a supervisor for the sub-graph."
   ]
  },
  {
   "cell_type": "code",
   "execution_count": 17,
   "metadata": {},
   "outputs": [],
   "source": [
    "from typing import List, Optional\n",
    "from langchain.output_parsers.openai_functions import JsonOutputFunctionsParser\n",
    "from langchain_core.prompts import ChatPromptTemplate, MessagesPlaceholder\n",
    "\n",
    "from langchain_groq import ChatGroq\n",
    "\n",
    "from langgraph.graph import END, StateGraph, START\n",
    "from langchain_core.messages import HumanMessage, trim_messages"
   ]
  },
  {
   "cell_type": "code",
   "execution_count": 18,
   "metadata": {},
   "outputs": [],
   "source": [
    "llm = ChatGroq(model=\"llama-3.2-90b-vision-preview\")"
   ]
  },
  {
   "cell_type": "code",
   "execution_count": 19,
   "metadata": {},
   "outputs": [],
   "source": [
    "# trimmer = trim_messages(\n",
    "#     max_tokens=100000,\n",
    "#     strategy=\"last\",\n",
    "#     token_counter=llm,\n",
    "#     include_system=True,\n",
    "# )"
   ]
  },
  {
   "cell_type": "code",
   "execution_count": 20,
   "metadata": {},
   "outputs": [],
   "source": [
    "def agent_node(state, agent, name):\n",
    "    result = agent.invoke(state)\n",
    "    return {\n",
    "        \"messages\": [HumanMessage(content=result[\"messages\"][-1].content, name=name)]\n",
    "    }\n",
    "\n",
    "\n",
    "def create_team_supervisor(llm, system_prompt, members) -> str:\n",
    "    \"\"\"An LLM-based router.\"\"\"\n",
    "    options = [\"FINISH\"] + members\n",
    "    function_def = {\n",
    "        \"name\": \"route\",\n",
    "        \"description\": \"Select the next role.\",\n",
    "        \"parameters\": {\n",
    "            \"title\": \"routeSchema\",\n",
    "            \"type\": \"object\",\n",
    "            \"properties\": {\n",
    "                \"next\": {\n",
    "                    \"title\": \"Next\",\n",
    "                    \"anyOf\": [\n",
    "                        {\"enum\": options},\n",
    "                    ],\n",
    "                },\n",
    "            },\n",
    "            \"required\": [\"next\"],\n",
    "        },\n",
    "    }\n",
    "    prompt = ChatPromptTemplate.from_messages(\n",
    "        [\n",
    "            (\"system\", system_prompt),\n",
    "            MessagesPlaceholder(variable_name=\"messages\"),\n",
    "            (\n",
    "                \"system\",\n",
    "                \"Given the conversation above, who should act next?\"\n",
    "                \" Or should we FINISH? Select one of: {options}\",\n",
    "            ),\n",
    "        ]\n",
    "    ).partial(options=str(options), team_members=\", \".join(members))\n",
    "    return (\n",
    "        prompt\n",
    "        # | trimmer\n",
    "        | llm.bind_functions(functions=[function_def], function_call=\"route\")\n",
    "        | JsonOutputFunctionsParser()\n",
    "    )"
   ]
  },
  {
   "cell_type": "markdown",
   "metadata": {},
   "source": [
    "# Research team"
   ]
  },
  {
   "cell_type": "code",
   "execution_count": 35,
   "metadata": {},
   "outputs": [],
   "source": [
    "import functools\n",
    "from langchain_core.messages import BaseMessage, HumanMessage\n",
    "from team_tools import research_supervisor_prompt, tavily_search_tool, retriever_tool, arxiv_search_tool, web_scraper_tool, repl_tool\n",
    "from langgraph.prebuilt import create_react_agent\n",
    "from langgraph.graph.message import add_messages\n",
    "from typing import TypedDict, Annotated, List\n",
    "\n",
    "\n",
    "# class ResearchTeamState(TypedDict):\n",
    "#     messages: Annotated[List[BaseMessage], add_messages]\n",
    "#     team_members: List[str]\n",
    "#     next: str\n",
    "\n",
    "#     plan_string: str\n",
    "#     steps: List\n",
    "#     results: dict\n",
    "#     current_task: str\n",
    "\n",
    "# relm_sup = ChatGroq(model=\"llama-3.2-90b-vision-preview\")\n",
    "\n",
    "# relm_worker = ChatGroq(model=\"llama-3.1-70b-versatile\")\n",
    "\n",
    "# relm_sup_prompt = \"\"\"You are a supervisor tasked with managing a conversation between the following workers: \n",
    "# - \"TavilyInternetSearch\": for general online searches when information is not available in other tools.\n",
    "# - \"QdrantVectorDBRetriever\": prioritize this tool for questions about content already stored in the vector database, especially for queries that mention specific papers, abstracts, summaries, or details of documents likely indexed in the vector DB.\n",
    "# - \"ArxivSearch\": use this to locate recent academic papers, research articles, or papers that may not be indexed in the vector database.\n",
    "# - \"WebScraper\": for extracting detailed information from specific web pages.\n",
    "# - \"PythonREPL\": for implementing computations, data processing, or summarizing retrieved results.\n",
    "\n",
    "# **Guidance:**\n",
    "# 1. **Prioritize QdrantVectorDBRetriever** for questions mentioning:\n",
    "#    - Known paper titles (e.g., “Attention is All You Need”) or document references.\n",
    "#    - Specific document sections (e.g., “abstract,” “conclusion,” “summary”) when the content is likely stored in the vector database.\n",
    "#    - Scientific or technical concepts that may have been pre-indexed.\n",
    "\n",
    "# 2. Use **ArxivSearch** for general academic paper searches when the document isn’t referenced by name and is unlikely to be in the vector DB.\n",
    "\n",
    "# 3. Select **TavilyInternetSearch** for broad or general knowledge searches that extend beyond academic content, or when initial attempts to retrieve data from the Qdrant DB or Arxiv fail.\n",
    "\n",
    "# 4. Choose **WebScraper** only when the query requires extracting data from specific URLs or known online resources not covered by other tools.\n",
    "\n",
    "# 5. Use **PythonREPL** for summarization, data analysis, or any custom processing of results retrieved from other tools.\n",
    "\n",
    "# For each user request, evaluate the task against these criteria, select the most suitable worker to handle it, and respond with **FINISH** once the task is complete.\n",
    "\n",
    "# **Example Scenarios:**\n",
    "\n",
    "# - **Query**: “What is the abstract of ‘Attention is All You Need’?”\n",
    "#   - **Action**: First attempt to retrieve this from QdrantVectorDBRetriever as the abstract may already be stored.\n",
    "  \n",
    "# - **Query**: “Find the latest papers on reinforcement learning.”\n",
    "#   - **Action**: Use ArxivSearch as this is a broad academic query with unspecified document references.\n",
    "\n",
    "# - **Query**: “Summarize the conclusion of ‘Deep Learning’ by LeCun et al.”\n",
    "#   - **Action**: Prioritize QdrantVectorDBRetriever if this document is indexed in the vector database.\n",
    "\n",
    "# Begin handling tasks based on these instructions.\n",
    "\n",
    "\n",
    "# Based on the given user request, decide which worker should act next. Each worker will complete a specific task and respond with their results and status. Once all tasks are completed and if you feel that the answer is sufficient, then respond with 'FINISH'.\"\"\"\n",
    "\n",
    "\n",
    "\n",
    "# # Creating agents for each tool\n",
    "# internet_search_agent = create_react_agent(relm_worker, tools=[tavily_search_tool])\n",
    "# internet_search_node = functools.partial(agent_node, agent=internet_search_agent, name=\"TavilyInternetSearch\")\n",
    "\n",
    "# retrieval_agent = create_react_agent(relm_worker, tools=[retriever_tool])\n",
    "# retrieval_node = functools.partial(agent_node, agent=retrieval_agent, name=\"QdrantVectorDBRetriever\")\n",
    "\n",
    "# arxiv_agent = create_react_agent(relm_worker, tools=[arxiv_search_tool])\n",
    "# arxiv_node = functools.partial(agent_node, agent=arxiv_agent, name=\"ArxivSearch\")\n",
    "\n",
    "# web_scraper_agent = create_react_agent(relm_worker, tools=[web_scraper_tool])\n",
    "# web_scraper_node = functools.partial(agent_node, agent=web_scraper_agent, name=\"WebScraper\")\n",
    "\n",
    "# repl_agent = create_react_agent(relm_worker, tools=[repl_tool])\n",
    "# repl_node = functools.partial(agent_node, agent=repl_agent, name=\"PythonREPL\")\n",
    "\n",
    "\n",
    "\n",
    "\n",
    "# supervisor_agent = create_team_supervisor(\n",
    "#     llm,\n",
    "#     relm_sup_prompt,\n",
    "#     [\"TavilyInternetSearch\", \"QdrantVectorDBRetriever\", \"ArxivSearch\", \"WebScraper\", \"PythonREPL\"],\n",
    "# )\n",
    "\n",
    "# from langgraph.graph import StateGraph, END, START\n",
    "\n",
    "# # Initialize the research graph\n",
    "# research_graph = StateGraph(ResearchTeamState)\n",
    "\n",
    "# # Add nodes for each agent in the research graph\n",
    "# research_graph.add_node(\"TavilyInternetSearch\", internet_search_node)\n",
    "# research_graph.add_node(\"QdrantVectorDBRetriever\", retrieval_node)\n",
    "# research_graph.add_node(\"ArxivSearch\", arxiv_node)\n",
    "# research_graph.add_node(\"WebScraper\", web_scraper_node)\n",
    "# research_graph.add_node(\"PythonREPL\", repl_node)\n",
    "# research_graph.add_node(\"supervisor\", supervisor_agent)\n",
    "\n",
    "# # Define the control flow from each worker node back to the supervisor node\n",
    "# research_graph.add_edge(\"TavilyInternetSearch\", \"supervisor\")\n",
    "# research_graph.add_edge(\"QdrantVectorDBRetriever\", \"supervisor\")\n",
    "# research_graph.add_edge(\"ArxivSearch\", \"supervisor\")\n",
    "# research_graph.add_edge(\"WebScraper\", \"supervisor\")\n",
    "# research_graph.add_edge(\"PythonREPL\", \"supervisor\")\n",
    "\n",
    "# # Define the supervisor's conditional edges based on the response\n",
    "# research_graph.add_conditional_edges(\n",
    "#     \"supervisor\",\n",
    "#     lambda state: state[\"next\"],\n",
    "#     {\n",
    "#         \"TavilyInternetSearch\": \"TavilyInternetSearch\",\n",
    "#         \"QdrantVectorDBRetriever\": \"QdrantVectorDBRetriever\",\n",
    "#         \"ArxivSearch\": \"ArxivSearch\",\n",
    "#         \"WebScraper\": \"WebScraper\",\n",
    "#         \"PythonREPL\": \"PythonREPL\",\n",
    "#         \"FINISH\": END,\n",
    "#     },\n",
    "# )\n",
    "\n",
    "# # Start the graph from the supervisor node\n",
    "# research_graph.add_edge(START, \"supervisor\")\n",
    "# chain = research_graph.compile()\n",
    "\n",
    "# # Functions to initialize and handle research chain input/output\n",
    "# def enter_chain(message: str):\n",
    "#     results = {\n",
    "#         \"messages\": [HumanMessage(content=message)],\n",
    "#     }\n",
    "#     return results\n",
    "\n",
    "# # Define the research chain process\n",
    "# research_chain = enter_chain | chain\n",
    "\n",
    "# for s in research_chain.stream(\n",
    "#     \"what is MAGVIT?\", {'recursion_limit': 100}\n",
    "# ):\n",
    "#     if \"__end__\" not in s:\n",
    "#         print(s)\n",
    "#         print(\"---\")"
   ]
  },
  {
   "cell_type": "code",
   "execution_count": 36,
   "metadata": {},
   "outputs": [],
   "source": []
  },
  {
   "cell_type": "code",
   "execution_count": 39,
   "metadata": {},
   "outputs": [
    {
     "name": "stdout",
     "output_type": "stream",
     "text": [
      "{'supervisor': {'next': 'TavilyInternetSearch'}}\n",
      "---\n",
      "{'TavilyInternetSearch': {'messages': [HumanMessage(content='MAGVIT is a video generation model that uses masked token modeling and multi-task learning. It outperforms existing methods in quality, efficiency, and flexibility for various tasks such as frame interpolation, outpainting, and class-conditional generation.', additional_kwargs={}, response_metadata={}, name='TavilyInternetSearch', id='da458fa2-bcc7-4c28-9475-b869b20bb291')]}}\n",
      "---\n",
      "{'supervisor': {'next': 'QdrantVectorDBRetriever'}}\n",
      "---\n",
      "{'QdrantVectorDBRetriever': {'messages': [HumanMessage(content='<function=qdrant_retriever{\"query\": \"MAGVIT\"}</function>', additional_kwargs={}, response_metadata={}, name='QdrantVectorDBRetriever', id='0bf4a9ed-c3f2-4b3d-97a7-b10e9e4fcb8e')]}}\n",
      "---\n",
      "{'supervisor': {'next': 'TavilyInternetSearch'}}\n",
      "---\n",
      "{'TavilyInternetSearch': {'messages': [HumanMessage(content='<function=tavily_search_results_json{\"query\": \"MAGVIT video generation model explained\"}</function>', additional_kwargs={}, response_metadata={}, name='TavilyInternetSearch', id='bb3d4513-98fa-43f6-8c46-469df3a385c5')]}}\n",
      "---\n",
      "{'supervisor': {'next': 'TavilyInternetSearch'}}\n",
      "---\n",
      "{'TavilyInternetSearch': {'messages': [HumanMessage(content='MAGVIT, or MAsked Generative VIdeo Transformer, is a video generation model that uses masked token modeling and multi-task learning to tackle various video synthesis tasks with a single model. It introduces a 3D tokenizer to quantize a video into spatial-temporal visual tokens and proposes an embedding method for masked video token modeling to facilitate multi-task learning.', additional_kwargs={}, response_metadata={}, name='TavilyInternetSearch', id='d9253a8d-95c7-45e1-b6a6-6a80358a16e3')]}}\n",
      "---\n",
      "{'supervisor': {'next': 'FINISH'}}\n",
      "---\n"
     ]
    }
   ],
   "source": []
  },
  {
   "cell_type": "markdown",
   "metadata": {},
   "source": [
    "# New teams"
   ]
  },
  {
   "cell_type": "markdown",
   "metadata": {},
   "source": [
    "## research team"
   ]
  },
  {
   "cell_type": "code",
   "execution_count": 1,
   "metadata": {},
   "outputs": [],
   "source": [
    "from typing import List, Optional\n",
    "from langchain.output_parsers.openai_functions import JsonOutputFunctionsParser\n",
    "from langchain_core.prompts import ChatPromptTemplate, MessagesPlaceholder\n",
    "from langgraph.graph import END, StateGraph, START\n",
    "from langchain_core.messages import HumanMessage, trim_messages\n",
    "\n",
    "from langchain_groq import ChatGroq"
   ]
  },
  {
   "cell_type": "code",
   "execution_count": 2,
   "metadata": {},
   "outputs": [],
   "source": [
    "llm = ChatGroq(model='llama-3.2-90b-vision-preview')"
   ]
  },
  {
   "cell_type": "code",
   "execution_count": 3,
   "metadata": {},
   "outputs": [],
   "source": [
    "trimmer = trim_messages(\n",
    "    max_tokens=120000,\n",
    "    strategy=\"last\",\n",
    "    token_counter=llm,\n",
    "    include_system=True,\n",
    ")"
   ]
  },
  {
   "cell_type": "code",
   "execution_count": 4,
   "metadata": {},
   "outputs": [],
   "source": [
    "def agent_node(state, agent, name):\n",
    "    result = agent.invoke(state)\n",
    "    return {\n",
    "        \"messages\": [HumanMessage(content=result[\"messages\"][-1].content, name=name)]\n",
    "    }\n",
    "\n",
    "def create_team_supervisor(llm: ChatGroq, system_prompt, members) -> str:\n",
    "    \"\"\"An LLM-based router.\"\"\"\n",
    "    options = [\"FINISH\"] + members\n",
    "    function_def = {\n",
    "        \"name\": \"route\",\n",
    "        \"description\": \"Select the next role.\",\n",
    "        \"parameters\": {\n",
    "            \"title\": \"routeSchema\",\n",
    "            \"type\": \"object\",\n",
    "            \"properties\": {\n",
    "                \"next\": {\n",
    "                    \"title\": \"Next\",\n",
    "                    \"anyOf\": [\n",
    "                        {\"enum\": options},\n",
    "                    ],\n",
    "                },\n",
    "            },\n",
    "            \"required\": [\"next\"],\n",
    "        },\n",
    "    }\n",
    "    prompt = ChatPromptTemplate.from_messages(\n",
    "        [\n",
    "            (\"system\", system_prompt),\n",
    "            MessagesPlaceholder(variable_name=\"messages\"),\n",
    "            (\n",
    "                \"system\",\n",
    "                \"Given the conversation above, who should act next?\"\n",
    "                \" Or should we FINISH? Select one of: {options}\",\n",
    "            ),\n",
    "        ]\n",
    "    ).partial(options=str(options), team_members=\", \".join(members))\n",
    "    return (\n",
    "        prompt\n",
    "        | trimmer\n",
    "        | llm.bind_functions(functions=[function_def], function_call=\"route\")\n",
    "        | JsonOutputFunctionsParser()\n",
    "    )"
   ]
  },
  {
   "cell_type": "code",
   "execution_count": 5,
   "metadata": {},
   "outputs": [],
   "source": [
    "import functools\n",
    "import operator\n",
    "\n",
    "from langchain_core.messages import BaseMessage, HumanMessage\n",
    "from langchain_openai.chat_models import ChatOpenAI\n",
    "from langgraph.prebuilt import create_react_agent\n",
    "from typing import TypedDict, Annotated, Literal, Union, List\n",
    "\n",
    "# ResearchTeam graph state\n",
    "class ResearchTeamState(TypedDict):\n",
    "    messages: Annotated[List[BaseMessage], operator.add]\n",
    "    team_members: List[str]\n",
    "    next: str"
   ]
  },
  {
   "cell_type": "code",
   "execution_count": 20,
   "metadata": {},
   "outputs": [
    {
     "data": {
      "text/plain": [
       "{'context': [Document(metadata={'pdf_id': 'a.pdf', 'score': 0.61511683}, page_content='The decoder is also composed of a stack of N = 6 identical layers. In addition to the two\\nsub-layers in each encoder layer, the decoder inserts a third sub-layer, which performs multi-head\\nattention over the output of the encoder stack. Similar to the encoder, we employ residual connections\\naround each of the sub-layers, followed by layer normalization. We also modify the self-attention\\nsub-layer in the decoder stack to prevent positions from attending to subsequent positions. This\\nmasking, combined with fact that the output embeddings are offset by one position, ensures that the\\npredictions for position i can depend only on the known outputs at positions less than i.\\n3.2\\nAttention\\nAn attention function can be described as mapping a query and a set of key-value pairs to an output,\\nwhere the query, keys, values, and output are all vectors. The output is computed as a weighted sum\\n3\\nScaled Dot-Product Attention\\nMulti-Head Attention\\nFigure 2: (left) Scaled Dot-Product Attention. (right) Multi-Head Attention consists of several\\nattention layers running in parallel.\\nof the values, where the weight assigned to each value is computed by a compatibility function of the\\nquery with the corresponding key.\\n3.2.1\\nScaled Dot-Product Attention\\nWe call our particular attention \"Scaled Dot-Product Attention\" (Figure 2). The input consists of\\nqueries and keys of dimension dk, and values of dimension dv. We compute the dot products of the\\nquery with all keys, divide each by √dk, and apply a softmax function to obtain the weights on the\\nvalues.\\nIn practice, we compute the attention function on a set of queries simultaneously, packed together\\ninto a matrix Q. The keys and values are also packed together into matrices K and V . We compute\\nthe matrix of outputs as:\\nAttention(Q, K, V ) = softmax(QKT\\n√dk\\n)V\\n(1)\\nThe two most commonly used attention functions are additive attention [2], and dot-product (multi-\\nplicative) attention. Dot-product attention is identical to our algorithm, except for the scaling factor\\nof\\n1\\n√dk . Additive attention computes the compatibility function using a feed-forward network with\\na single hidden layer. While the two are similar in theoretical complexity, dot-product attention is\\nmuch faster and more space-efficient in practice, since it can be implemented using highly optimized\\nmatrix multiplication code.\\nWhile for small values of dk the two mechanisms perform similarly, additive attention outperforms\\ndot product attention without scaling for larger values of dk [3]. We suspect that for large values of\\ndk, the dot products grow large in magnitude, pushing the softmax function into regions where it has\\nextremely small gradients 4. To counteract this effect, we scale the dot products by\\n1\\n√dk .\\n3.2.2\\nMulti-Head Attention\\nInstead of performing a single attention function with dmodel-dimensional keys, values and queries,\\nwe found it beneficial to linearly project the queries, keys and values h times with different, learned'),\n",
       "  Document(metadata={'pdf_id': 'a.pdf', 'score': 0.591306}, page_content='1\\n√dk .\\n3.2.2\\nMulti-Head Attention\\nInstead of performing a single attention function with dmodel-dimensional keys, values and queries,\\nwe found it beneficial to linearly project the queries, keys and values h times with different, learned\\nlinear projections to dk, dk and dv dimensions, respectively. On each of these projected versions of\\nqueries, keys and values we then perform the attention function in parallel, yielding dv-dimensional\\n4To illustrate why the dot products get large, assume that the components of q and k are independent random\\nvariables with mean 0 and variance 1. Then their dot product, q · k = Pdk\\ni=1 qiki, has mean 0 and variance dk.\\n4\\noutput values. These are concatenated and once again projected, resulting in the final values, as\\ndepicted in Figure 2.\\nMulti-head attention allows the model to jointly attend to information from different representation\\nsubspaces at different positions. With a single attention head, averaging inhibits this.\\nMultiHead(Q, K, V ) = Concat(head1, ..., headh)W O\\nwhere headi = Attention(QW Q\\ni , KW K\\ni , V W V\\ni )\\nWhere the projections are parameter matrices W Q\\ni\\n∈Rdmodel×dk, W K\\ni\\n∈Rdmodel×dk, W V\\ni\\n∈Rdmodel×dv\\nand W O ∈Rhdv×dmodel.\\nIn this work we employ h = 8 parallel attention layers, or heads. For each of these we use\\ndk = dv = dmodel/h = 64. Due to the reduced dimension of each head, the total computational cost\\nis similar to that of single-head attention with full dimensionality.\\n3.2.3\\nApplications of Attention in our Model\\nThe Transformer uses multi-head attention in three different ways:\\n• In \"encoder-decoder attention\" layers, the queries come from the previous decoder layer,\\nand the memory keys and values come from the output of the encoder. This allows every\\nposition in the decoder to attend over all positions in the input sequence. This mimics the\\ntypical encoder-decoder attention mechanisms in sequence-to-sequence models such as\\n[38, 2, 9].\\n• The encoder contains self-attention layers. In a self-attention layer all of the keys, values\\nand queries come from the same place, in this case, the output of the previous layer in the\\nencoder. Each position in the encoder can attend to all positions in the previous layer of the\\nencoder.\\n• Similarly, self-attention layers in the decoder allow each position in the decoder to attend to\\nall positions in the decoder up to and including that position. We need to prevent leftward\\ninformation flow in the decoder to preserve the auto-regressive property. We implement this\\ninside of scaled dot-product attention by masking out (setting to −∞) all values in the input\\nof the softmax which correspond to illegal connections. See Figure 2.\\n3.3\\nPosition-wise Feed-Forward Networks\\nIn addition to attention sub-layers, each of the layers in our encoder and decoder contains a fully\\nconnected feed-forward network, which is applied to each position separately and identically. This\\nconsists of two linear transformations with a ReLU activation in between.'),\n",
       "  Document(metadata={'pdf_id': 'a.pdf', 'score': 0.5730695}, page_content='reduced to a constant number of operations, albeit at the cost of reduced effective resolution due\\nto averaging attention-weighted positions, an effect we counteract with Multi-Head Attention as\\ndescribed in section 3.2.\\nSelf-attention, sometimes called intra-attention is an attention mechanism relating different positions\\nof a single sequence in order to compute a representation of the sequence. Self-attention has been\\nused successfully in a variety of tasks including reading comprehension, abstractive summarization,\\ntextual entailment and learning task-independent sentence representations [4, 27, 28, 22].\\nEnd-to-end memory networks are based on a recurrent attention mechanism instead of sequence-\\naligned recurrence and have been shown to perform well on simple-language question answering and\\nlanguage modeling tasks [34].\\nTo the best of our knowledge, however, the Transformer is the first transduction model relying\\nentirely on self-attention to compute representations of its input and output without using sequence-\\naligned RNNs or convolution. In the following sections, we will describe the Transformer, motivate\\nself-attention and discuss its advantages over models such as [17, 18] and [9].\\n3\\nModel Architecture\\nMost competitive neural sequence transduction models have an encoder-decoder structure [5, 2, 35].\\nHere, the encoder maps an input sequence of symbol representations (x1, ..., xn) to a sequence\\nof continuous representations z = (z1, ..., zn). Given z, the decoder then generates an output\\nsequence (y1, ..., ym) of symbols one element at a time. At each step the model is auto-regressive\\n[10], consuming the previously generated symbols as additional input when generating the next.\\n2\\nFigure 1: The Transformer - model architecture.\\nThe Transformer follows this overall architecture using stacked self-attention and point-wise, fully\\nconnected layers for both the encoder and decoder, shown in the left and right halves of Figure 1,\\nrespectively.\\n3.1\\nEncoder and Decoder Stacks\\nEncoder:\\nThe encoder is composed of a stack of N = 6 identical layers. Each layer has two\\nsub-layers. The first is a multi-head self-attention mechanism, and the second is a simple, position-\\nwise fully connected feed-forward network. We employ a residual connection [11] around each of\\nthe two sub-layers, followed by layer normalization [1]. That is, the output of each sub-layer is\\nLayerNorm(x + Sublayer(x)), where Sublayer(x) is the function implemented by the sub-layer\\nitself. To facilitate these residual connections, all sub-layers in the model, as well as the embedding\\nlayers, produce outputs of dimension dmodel = 512.\\nDecoder:\\nThe decoder is also composed of a stack of N = 6 identical layers. In addition to the two\\nsub-layers in each encoder layer, the decoder inserts a third sub-layer, which performs multi-head\\nattention over the output of the encoder stack. Similar to the encoder, we employ residual connections')],\n",
       " 'question': 'What is attention',\n",
       " 'answer': 'An attention function is a mapping of a query and a set of key-value pairs to an output, where the query, keys, values, and output are all vectors. The output is computed as a weighted sum of the values, where the weight assigned to each value is computed by a compatibility function of the query with the corresponding key.'}"
      ]
     },
     "execution_count": 20,
     "metadata": {},
     "output_type": "execute_result"
    }
   ],
   "source": [
    "from langchain import hub\n",
    "from langchain_core.output_parsers import StrOutputParser\n",
    "from team_tools import Qretriever\n",
    "\n",
    "retriever = Qretriever\n",
    "\n",
    "\n",
    "# Prompt\n",
    "prompt = hub.pull(\"rlm/rag-prompt\")\n",
    "# Post-processing\n",
    "def format_docs(docs):\n",
    "    return \"\\n\\n\".join(doc.page_content for doc in docs)\n",
    "\n",
    "from langchain_core.runnables import RunnableParallel\n",
    "from langchain_core.runnables import RunnablePassthrough\n",
    "\n",
    "rag_chain_from_docs = (\n",
    "    RunnablePassthrough.assign(context=(lambda x: format_docs(x[\"context\"])))\n",
    "    | prompt\n",
    "    | llm\n",
    "    | StrOutputParser()\n",
    ")\n",
    "\n",
    "rag_chain_with_source = RunnableParallel(\n",
    "    {\"context\": retriever, \"question\": RunnablePassthrough()}\n",
    ").assign(answer=rag_chain_from_docs)\n",
    "\n",
    "rag_chain_with_source.invoke(\"What is attention\")"
   ]
  },
  {
   "cell_type": "code",
   "execution_count": 21,
   "metadata": {},
   "outputs": [],
   "source": [
    "response = rag_chain_with_source.invoke(\"What is attention, and how is it realted to SAN pdf\")\n",
    "\n",
    "# Access the answer and sources\n",
    "answer = response['answer']\n",
    "sources = [doc.metadata['pdf_id'] for doc in response['context']]"
   ]
  },
  {
   "cell_type": "code",
   "execution_count": 22,
   "metadata": {},
   "outputs": [
    {
     "data": {
      "text/plain": [
       "('Attention is a mapping of a query and a set of key-value pairs to an output, where the query, keys, values, and output are all vectors. The output is computed as a weighted sum of the values, where the weight assigned to each value is computed by a compatibility function of the query with the corresponding key. In the context of SAN (Scaled Dot-Product Attention Network), attention is used in the decoder to perform multi-head attention over the output of the encoder stack.',\n",
       " 'SAN.pdf')"
      ]
     },
     "execution_count": 22,
     "metadata": {},
     "output_type": "execute_result"
    }
   ],
   "source": [
    "answer, sources[0]"
   ]
  },
  {
   "cell_type": "code",
   "execution_count": null,
   "metadata": {},
   "outputs": [],
   "source": []
  },
  {
   "cell_type": "code",
   "execution_count": null,
   "metadata": {},
   "outputs": [],
   "source": []
  }
 ],
 "metadata": {
  "kernelspec": {
   "display_name": "myenv",
   "language": "python",
   "name": "python3"
  },
  "language_info": {
   "codemirror_mode": {
    "name": "ipython",
    "version": 3
   },
   "file_extension": ".py",
   "mimetype": "text/x-python",
   "name": "python",
   "nbconvert_exporter": "python",
   "pygments_lexer": "ipython3",
   "version": "3.12.3"
  }
 },
 "nbformat": 4,
 "nbformat_minor": 2
}
